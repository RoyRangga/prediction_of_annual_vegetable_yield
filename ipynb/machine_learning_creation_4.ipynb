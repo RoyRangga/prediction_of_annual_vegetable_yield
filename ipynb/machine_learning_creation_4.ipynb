{
  "nbformat": 4,
  "nbformat_minor": 0,
  "metadata": {
    "colab": {
      "provenance": []
    },
    "kernelspec": {
      "name": "python3",
      "display_name": "Python 3"
    },
    "language_info": {
      "name": "python"
    }
  },
  "cells": [
    {
      "cell_type": "code",
      "execution_count": null,
      "metadata": {
        "colab": {
          "base_uri": "https://localhost:8080/"
        },
        "id": "s0-KQwXIDN2l",
        "outputId": "9c4e880b-10a0-4976-d9dc-93107f72625b"
      },
      "outputs": [
        {
          "output_type": "stream",
          "name": "stdout",
          "text": [
            "Mounted at /content/drive\n"
          ]
        }
      ],
      "source": [
        "from google.colab import drive\n",
        "drive.mount('/content/drive')"
      ]
    },
    {
      "cell_type": "code",
      "source": [],
      "metadata": {
        "id": "ka75v02DbxfX"
      },
      "execution_count": null,
      "outputs": []
    },
    {
      "cell_type": "markdown",
      "source": [
        "## **Import library**"
      ],
      "metadata": {
        "id": "MQabFdaNbyAW"
      }
    },
    {
      "cell_type": "code",
      "source": [
        "import pandas as pd\n",
        "import numpy as np\n",
        "from sklearn.model_selection import cross_val_score\n",
        "#from sklearn.model_selection import kfold\n",
        "from sklearn.ensemble import RandomForestRegressor\n",
        "import matplotlib.pyplot as plt\n",
        "import seaborn as sns"
      ],
      "metadata": {
        "id": "u2sDRgdSE7qc"
      },
      "execution_count": null,
      "outputs": []
    },
    {
      "cell_type": "code",
      "source": [],
      "metadata": {
        "id": "u4vEaA0qb-9Q"
      },
      "execution_count": null,
      "outputs": []
    },
    {
      "cell_type": "markdown",
      "source": [
        "## **Import data climate yang telah dijoin dengan data hasil panen sayur**"
      ],
      "metadata": {
        "id": "ECgOF4tFb_tl"
      }
    },
    {
      "cell_type": "code",
      "source": [
        "data_input = pd.read_csv(\"/content/drive/MyDrive/project_metrodata/kumpulan_file/start_over/climate_sayur_joined3.csv\")"
      ],
      "metadata": {
        "id": "yhQuFpJHFAeb"
      },
      "execution_count": null,
      "outputs": []
    },
    {
      "cell_type": "code",
      "source": [
        "data_input.head()"
      ],
      "metadata": {
        "colab": {
          "base_uri": "https://localhost:8080/",
          "height": 206
        },
        "id": "E__7pNB_FJkD",
        "outputId": "373d23c7-48cb-4281-fa18-5a6b7fc14245"
      },
      "execution_count": null,
      "outputs": [
        {
          "output_type": "execute_result",
          "data": {
            "text/plain": [
              "  province_name  tahun      nama_komoditas  hasil_panen         Tn         Tx  \\\n",
              "0          aceh   2010  Bawang Merah (Ton)       3615.0  21.927876  31.041141   \n",
              "1          aceh   2010  Bawang Putih (Ton)        161.0  21.927876  31.041141   \n",
              "2          aceh   2010   Bawang Daun (Ton)       2736.0  21.927876  31.041141   \n",
              "3          aceh   2010       Kentang (Ton)       8587.0  21.927876  31.041141   \n",
              "4          aceh   2010         Kubis (Ton)       4466.0  21.927876  31.041141   \n",
              "\n",
              "        Tavg    RH_avg         RR       ss      ff_x       ddd_x   ff_avg  \n",
              "0  26.119118  84.09573  15.200939  3.18452  5.175263  195.720373  2.72276  \n",
              "1  26.119118  84.09573  15.200939  3.18452  5.175263  195.720373  2.72276  \n",
              "2  26.119118  84.09573  15.200939  3.18452  5.175263  195.720373  2.72276  \n",
              "3  26.119118  84.09573  15.200939  3.18452  5.175263  195.720373  2.72276  \n",
              "4  26.119118  84.09573  15.200939  3.18452  5.175263  195.720373  2.72276  "
            ],
            "text/html": [
              "\n",
              "  <div id=\"df-37fef8c4-a7b2-44e8-a80d-beb31748aefd\">\n",
              "    <div class=\"colab-df-container\">\n",
              "      <div>\n",
              "<style scoped>\n",
              "    .dataframe tbody tr th:only-of-type {\n",
              "        vertical-align: middle;\n",
              "    }\n",
              "\n",
              "    .dataframe tbody tr th {\n",
              "        vertical-align: top;\n",
              "    }\n",
              "\n",
              "    .dataframe thead th {\n",
              "        text-align: right;\n",
              "    }\n",
              "</style>\n",
              "<table border=\"1\" class=\"dataframe\">\n",
              "  <thead>\n",
              "    <tr style=\"text-align: right;\">\n",
              "      <th></th>\n",
              "      <th>province_name</th>\n",
              "      <th>tahun</th>\n",
              "      <th>nama_komoditas</th>\n",
              "      <th>hasil_panen</th>\n",
              "      <th>Tn</th>\n",
              "      <th>Tx</th>\n",
              "      <th>Tavg</th>\n",
              "      <th>RH_avg</th>\n",
              "      <th>RR</th>\n",
              "      <th>ss</th>\n",
              "      <th>ff_x</th>\n",
              "      <th>ddd_x</th>\n",
              "      <th>ff_avg</th>\n",
              "    </tr>\n",
              "  </thead>\n",
              "  <tbody>\n",
              "    <tr>\n",
              "      <th>0</th>\n",
              "      <td>aceh</td>\n",
              "      <td>2010</td>\n",
              "      <td>Bawang Merah (Ton)</td>\n",
              "      <td>3615.0</td>\n",
              "      <td>21.927876</td>\n",
              "      <td>31.041141</td>\n",
              "      <td>26.119118</td>\n",
              "      <td>84.09573</td>\n",
              "      <td>15.200939</td>\n",
              "      <td>3.18452</td>\n",
              "      <td>5.175263</td>\n",
              "      <td>195.720373</td>\n",
              "      <td>2.72276</td>\n",
              "    </tr>\n",
              "    <tr>\n",
              "      <th>1</th>\n",
              "      <td>aceh</td>\n",
              "      <td>2010</td>\n",
              "      <td>Bawang Putih (Ton)</td>\n",
              "      <td>161.0</td>\n",
              "      <td>21.927876</td>\n",
              "      <td>31.041141</td>\n",
              "      <td>26.119118</td>\n",
              "      <td>84.09573</td>\n",
              "      <td>15.200939</td>\n",
              "      <td>3.18452</td>\n",
              "      <td>5.175263</td>\n",
              "      <td>195.720373</td>\n",
              "      <td>2.72276</td>\n",
              "    </tr>\n",
              "    <tr>\n",
              "      <th>2</th>\n",
              "      <td>aceh</td>\n",
              "      <td>2010</td>\n",
              "      <td>Bawang Daun (Ton)</td>\n",
              "      <td>2736.0</td>\n",
              "      <td>21.927876</td>\n",
              "      <td>31.041141</td>\n",
              "      <td>26.119118</td>\n",
              "      <td>84.09573</td>\n",
              "      <td>15.200939</td>\n",
              "      <td>3.18452</td>\n",
              "      <td>5.175263</td>\n",
              "      <td>195.720373</td>\n",
              "      <td>2.72276</td>\n",
              "    </tr>\n",
              "    <tr>\n",
              "      <th>3</th>\n",
              "      <td>aceh</td>\n",
              "      <td>2010</td>\n",
              "      <td>Kentang (Ton)</td>\n",
              "      <td>8587.0</td>\n",
              "      <td>21.927876</td>\n",
              "      <td>31.041141</td>\n",
              "      <td>26.119118</td>\n",
              "      <td>84.09573</td>\n",
              "      <td>15.200939</td>\n",
              "      <td>3.18452</td>\n",
              "      <td>5.175263</td>\n",
              "      <td>195.720373</td>\n",
              "      <td>2.72276</td>\n",
              "    </tr>\n",
              "    <tr>\n",
              "      <th>4</th>\n",
              "      <td>aceh</td>\n",
              "      <td>2010</td>\n",
              "      <td>Kubis (Ton)</td>\n",
              "      <td>4466.0</td>\n",
              "      <td>21.927876</td>\n",
              "      <td>31.041141</td>\n",
              "      <td>26.119118</td>\n",
              "      <td>84.09573</td>\n",
              "      <td>15.200939</td>\n",
              "      <td>3.18452</td>\n",
              "      <td>5.175263</td>\n",
              "      <td>195.720373</td>\n",
              "      <td>2.72276</td>\n",
              "    </tr>\n",
              "  </tbody>\n",
              "</table>\n",
              "</div>\n",
              "      <button class=\"colab-df-convert\" onclick=\"convertToInteractive('df-37fef8c4-a7b2-44e8-a80d-beb31748aefd')\"\n",
              "              title=\"Convert this dataframe to an interactive table.\"\n",
              "              style=\"display:none;\">\n",
              "        \n",
              "  <svg xmlns=\"http://www.w3.org/2000/svg\" height=\"24px\"viewBox=\"0 0 24 24\"\n",
              "       width=\"24px\">\n",
              "    <path d=\"M0 0h24v24H0V0z\" fill=\"none\"/>\n",
              "    <path d=\"M18.56 5.44l.94 2.06.94-2.06 2.06-.94-2.06-.94-.94-2.06-.94 2.06-2.06.94zm-11 1L8.5 8.5l.94-2.06 2.06-.94-2.06-.94L8.5 2.5l-.94 2.06-2.06.94zm10 10l.94 2.06.94-2.06 2.06-.94-2.06-.94-.94-2.06-.94 2.06-2.06.94z\"/><path d=\"M17.41 7.96l-1.37-1.37c-.4-.4-.92-.59-1.43-.59-.52 0-1.04.2-1.43.59L10.3 9.45l-7.72 7.72c-.78.78-.78 2.05 0 2.83L4 21.41c.39.39.9.59 1.41.59.51 0 1.02-.2 1.41-.59l7.78-7.78 2.81-2.81c.8-.78.8-2.07 0-2.86zM5.41 20L4 18.59l7.72-7.72 1.47 1.35L5.41 20z\"/>\n",
              "  </svg>\n",
              "      </button>\n",
              "      \n",
              "  <style>\n",
              "    .colab-df-container {\n",
              "      display:flex;\n",
              "      flex-wrap:wrap;\n",
              "      gap: 12px;\n",
              "    }\n",
              "\n",
              "    .colab-df-convert {\n",
              "      background-color: #E8F0FE;\n",
              "      border: none;\n",
              "      border-radius: 50%;\n",
              "      cursor: pointer;\n",
              "      display: none;\n",
              "      fill: #1967D2;\n",
              "      height: 32px;\n",
              "      padding: 0 0 0 0;\n",
              "      width: 32px;\n",
              "    }\n",
              "\n",
              "    .colab-df-convert:hover {\n",
              "      background-color: #E2EBFA;\n",
              "      box-shadow: 0px 1px 2px rgba(60, 64, 67, 0.3), 0px 1px 3px 1px rgba(60, 64, 67, 0.15);\n",
              "      fill: #174EA6;\n",
              "    }\n",
              "\n",
              "    [theme=dark] .colab-df-convert {\n",
              "      background-color: #3B4455;\n",
              "      fill: #D2E3FC;\n",
              "    }\n",
              "\n",
              "    [theme=dark] .colab-df-convert:hover {\n",
              "      background-color: #434B5C;\n",
              "      box-shadow: 0px 1px 3px 1px rgba(0, 0, 0, 0.15);\n",
              "      filter: drop-shadow(0px 1px 2px rgba(0, 0, 0, 0.3));\n",
              "      fill: #FFFFFF;\n",
              "    }\n",
              "  </style>\n",
              "\n",
              "      <script>\n",
              "        const buttonEl =\n",
              "          document.querySelector('#df-37fef8c4-a7b2-44e8-a80d-beb31748aefd button.colab-df-convert');\n",
              "        buttonEl.style.display =\n",
              "          google.colab.kernel.accessAllowed ? 'block' : 'none';\n",
              "\n",
              "        async function convertToInteractive(key) {\n",
              "          const element = document.querySelector('#df-37fef8c4-a7b2-44e8-a80d-beb31748aefd');\n",
              "          const dataTable =\n",
              "            await google.colab.kernel.invokeFunction('convertToInteractive',\n",
              "                                                     [key], {});\n",
              "          if (!dataTable) return;\n",
              "\n",
              "          const docLinkHtml = 'Like what you see? Visit the ' +\n",
              "            '<a target=\"_blank\" href=https://colab.research.google.com/notebooks/data_table.ipynb>data table notebook</a>'\n",
              "            + ' to learn more about interactive tables.';\n",
              "          element.innerHTML = '';\n",
              "          dataTable['output_type'] = 'display_data';\n",
              "          await google.colab.output.renderOutput(dataTable, element);\n",
              "          const docLink = document.createElement('div');\n",
              "          docLink.innerHTML = docLinkHtml;\n",
              "          element.appendChild(docLink);\n",
              "        }\n",
              "      </script>\n",
              "    </div>\n",
              "  </div>\n",
              "  "
            ]
          },
          "metadata": {},
          "execution_count": 4
        }
      ]
    },
    {
      "cell_type": "code",
      "source": [
        "data_input.info()"
      ],
      "metadata": {
        "colab": {
          "base_uri": "https://localhost:8080/"
        },
        "id": "cJkj9K3DGbR1",
        "outputId": "1da27470-346c-4899-9f92-00d16846d49b"
      },
      "execution_count": null,
      "outputs": [
        {
          "output_type": "stream",
          "name": "stdout",
          "text": [
            "<class 'pandas.core.frame.DataFrame'>\n",
            "RangeIndex: 9350 entries, 0 to 9349\n",
            "Data columns (total 13 columns):\n",
            " #   Column          Non-Null Count  Dtype  \n",
            "---  ------          --------------  -----  \n",
            " 0   province_name   9350 non-null   object \n",
            " 1   tahun           9350 non-null   int64  \n",
            " 2   nama_komoditas  9350 non-null   object \n",
            " 3   hasil_panen     9350 non-null   float64\n",
            " 4   Tn              9350 non-null   float64\n",
            " 5   Tx              9350 non-null   float64\n",
            " 6   Tavg            9350 non-null   float64\n",
            " 7   RH_avg          9350 non-null   float64\n",
            " 8   RR              9350 non-null   float64\n",
            " 9   ss              9350 non-null   float64\n",
            " 10  ff_x            9350 non-null   float64\n",
            " 11  ddd_x           9350 non-null   float64\n",
            " 12  ff_avg          9350 non-null   float64\n",
            "dtypes: float64(10), int64(1), object(2)\n",
            "memory usage: 949.7+ KB\n"
          ]
        }
      ]
    },
    {
      "cell_type": "code",
      "source": [
        "data_input.nama_komoditas.value_counts()"
      ],
      "metadata": {
        "colab": {
          "base_uri": "https://localhost:8080/"
        },
        "id": "WKymNOm3woof",
        "outputId": "19535966-ffae-4d3e-ec67-8e1a90253c66"
      },
      "execution_count": null,
      "outputs": [
        {
          "output_type": "execute_result",
          "data": {
            "text/plain": [
              "Bawang Merah (Ton)      374\n",
              "Tomat (Ton)             374\n",
              "Jengkol (Ton)           374\n",
              "Petai (Ton)             374\n",
              "Paprika (Ton)           374\n",
              "Melinjo (Ton)           374\n",
              "Bayam (Ton)             374\n",
              "Kangkung (Ton)          374\n",
              "Labu Siam (Ton)         374\n",
              "Ketimun (Ton)           374\n",
              "Buncis (Ton)            374\n",
              "Terung (Ton)            374\n",
              "Cabai Rawit (Ton)       374\n",
              "Bawang Putih (Ton)      374\n",
              "Cabai Besar (Ton)       374\n",
              "Kacang Panjang (Ton)    374\n",
              "Kacang Merah (Ton)      374\n",
              "Lobak (Ton)             374\n",
              "Wortel (Ton)            374\n",
              "Petsai/Sawi (Ton)       374\n",
              "Kembang Kol (Ton)       374\n",
              "Kubis (Ton)             374\n",
              "Kentang (Ton)           374\n",
              "Bawang Daun (Ton)       374\n",
              "Jamur (Ton)             374\n",
              "Name: nama_komoditas, dtype: int64"
            ]
          },
          "metadata": {},
          "execution_count": 6
        }
      ]
    },
    {
      "cell_type": "markdown",
      "source": [
        "#### **Analisa tingkat signifkansi tiap-tiap variable**"
      ],
      "metadata": {
        "id": "s8_TeL-2cTAc"
      }
    },
    {
      "cell_type": "code",
      "source": [
        "corr_group_1 = data_input.corr()\n",
        "sns.heatmap(corr_group_1, annot = True, cmap=\"BrBG\", fmt = \".2f\", linewidths=.5, vmin=-1, vmax=1)"
      ],
      "metadata": {
        "colab": {
          "base_uri": "https://localhost:8080/",
          "height": 578
        },
        "id": "ttdO3xzjqDyG",
        "outputId": "b1fa35c8-1220-4c01-973c-54c787c74e81"
      },
      "execution_count": null,
      "outputs": [
        {
          "output_type": "stream",
          "name": "stderr",
          "text": [
            "<ipython-input-85-0625028477a7>:1: FutureWarning: The default value of numeric_only in DataFrame.corr is deprecated. In a future version, it will default to False. Select only valid columns or specify the value of numeric_only to silence this warning.\n",
            "  corr_group_1 = data_input.corr()\n"
          ]
        },
        {
          "output_type": "execute_result",
          "data": {
            "text/plain": [
              "<Axes: >"
            ]
          },
          "metadata": {},
          "execution_count": 85
        },
        {
          "output_type": "display_data",
          "data": {
            "text/plain": [
              "<Figure size 640x480 with 2 Axes>"
            ],
            "image/png": "[encoded data removed]"
          },
          "metadata": {}
        }
      ]
    },
    {
      "cell_type": "code",
      "source": [
        "# dari table diatas, dapat diketahui bahwa ternyata masing-masing variable memiliki tingkat signifkansi yang tidak terlalu tinggi terhadap hasil panen, dimana nilainya tidak ada yang diatas 0.5\n",
        "# oleh karena itu, dapat dipertimbangkan untuk mencari variable lain, yang mungkin memiliki pengaruh signifikan terhadap jumlah hasil panen\n",
        "# kemudian kami berasumsi bahwa ada faktor-faktor lain yang mungkin memiliki pengaruh besar, adalah luas wilayah pertanian dan jumlah tenaga kerja sektor pertanian di tiap-tiap provinsi"
      ],
      "metadata": {
        "id": "zqdvVuWTclXv"
      },
      "execution_count": null,
      "outputs": []
    },
    {
      "cell_type": "code",
      "source": [
        "import statsmodels.api as sm\n",
        "from statsmodels.formula.api import ols\n",
        "\n",
        "# Membuat model ANOVA\n",
        "model = ols('hasil_panen ~ province_name + tahun + nama_komoditas', data=data_input).fit()\n",
        "\n",
        "# Melakukan analisis varian dua arah\n",
        "anova_table = sm.stats.anova_lm(model, typ=2)\n",
        "\n",
        "print(anova_table)\n",
        "# uji anova dua arah ini ditujukan untuk melihat apakah variabel-variabel kategorikal seperti \"province_name\", \"tahun\", dan \"nama_komoditas\"\n",
        "# memiliki pengaruh signifikan terhadap jumlah hasil panen\n",
        "# parameter yang umum dijadikan acuan adalah PR(>F) atau disebut juga p-value (0.05 atau 0.01)\n",
        "# berdasarkan parameter tersebut, dapat diketahui bahwa semua variabel kategorikal memiliki pengaruh yang signifikan terhadap jumlah hasil panen tiap tahun\n"
      ],
      "metadata": {
        "colab": {
          "base_uri": "https://localhost:8080/"
        },
        "id": "NGDZDpYRqZWm",
        "outputId": "ce91ff26-b207-4468-d64a-fe5ce4af35a7"
      },
      "execution_count": null,
      "outputs": [
        {
          "output_type": "stream",
          "name": "stdout",
          "text": [
            "                      sum_sq      df           F         PR(>F)\n",
            "province_name   6.090590e+12    33.0  181.098096   0.000000e+00\n",
            "nama_komoditas  1.434185e+12    24.0   58.635730  3.305669e-262\n",
            "tahun           1.144380e+10     1.0   11.228942   8.085260e-04\n",
            "Residual        9.468779e+12  9291.0         NaN            NaN\n"
          ]
        }
      ]
    },
    {
      "cell_type": "markdown",
      "source": [
        "### **Input data luas wilayah pertanian dan tenaga kerja sektor pertanian**"
      ],
      "metadata": {
        "id": "QUflNnR1whz7"
      }
    },
    {
      "cell_type": "code",
      "source": [
        "data_luas_pertanian = pd.read_excel(\"/content/drive/MyDrive/project_metrodata/kumpulan_file/start_over/luas_wilayah_melted.xlsx\")"
      ],
      "metadata": {
        "id": "eDnCx5N3I3Pi"
      },
      "execution_count": null,
      "outputs": []
    },
    {
      "cell_type": "code",
      "source": [
        "data_tnk_pertanian = pd.read_excel(\"/content/drive/MyDrive/project_metrodata/kumpulan_file/start_over/data_tnk_pertanian.xlsx\")"
      ],
      "metadata": {
        "id": "28qldpQTwhAP"
      },
      "execution_count": null,
      "outputs": []
    },
    {
      "cell_type": "code",
      "source": [
        "data_luas_pertanian.head()"
      ],
      "metadata": {
        "colab": {
          "base_uri": "https://localhost:8080/",
          "height": 206
        },
        "id": "pL9CiTGrwsF7",
        "outputId": "98115917-4570-4e2a-a190-dba9e9393b3e"
      },
      "execution_count": null,
      "outputs": [
        {
          "output_type": "execute_result",
          "data": {
            "text/plain": [
              "    province_name  tahun  luar_wilayah_hektar\n",
              "0            aceh   2004             346305.0\n",
              "1  sumatera utara   2004             502839.0\n",
              "2  sumatera barat   2004             231939.0\n",
              "3            riau   2004             125966.0\n",
              "4           jambi   2004             122126.0"
            ],
            "text/html": [
              "\n",
              "  <div id=\"df-0f901332-8099-4552-a70e-922a2dd30c2c\">\n",
              "    <div class=\"colab-df-container\">\n",
              "      <div>\n",
              "<style scoped>\n",
              "    .dataframe tbody tr th:only-of-type {\n",
              "        vertical-align: middle;\n",
              "    }\n",
              "\n",
              "    .dataframe tbody tr th {\n",
              "        vertical-align: top;\n",
              "    }\n",
              "\n",
              "    .dataframe thead th {\n",
              "        text-align: right;\n",
              "    }\n",
              "</style>\n",
              "<table border=\"1\" class=\"dataframe\">\n",
              "  <thead>\n",
              "    <tr style=\"text-align: right;\">\n",
              "      <th></th>\n",
              "      <th>province_name</th>\n",
              "      <th>tahun</th>\n",
              "      <th>luar_wilayah_hektar</th>\n",
              "    </tr>\n",
              "  </thead>\n",
              "  <tbody>\n",
              "    <tr>\n",
              "      <th>0</th>\n",
              "      <td>aceh</td>\n",
              "      <td>2004</td>\n",
              "      <td>346305.0</td>\n",
              "    </tr>\n",
              "    <tr>\n",
              "      <th>1</th>\n",
              "      <td>sumatera utara</td>\n",
              "      <td>2004</td>\n",
              "      <td>502839.0</td>\n",
              "    </tr>\n",
              "    <tr>\n",
              "      <th>2</th>\n",
              "      <td>sumatera barat</td>\n",
              "      <td>2004</td>\n",
              "      <td>231939.0</td>\n",
              "    </tr>\n",
              "    <tr>\n",
              "      <th>3</th>\n",
              "      <td>riau</td>\n",
              "      <td>2004</td>\n",
              "      <td>125966.0</td>\n",
              "    </tr>\n",
              "    <tr>\n",
              "      <th>4</th>\n",
              "      <td>jambi</td>\n",
              "      <td>2004</td>\n",
              "      <td>122126.0</td>\n",
              "    </tr>\n",
              "  </tbody>\n",
              "</table>\n",
              "</div>\n",
              "      <button class=\"colab-df-convert\" onclick=\"convertToInteractive('df-0f901332-8099-4552-a70e-922a2dd30c2c')\"\n",
              "              title=\"Convert this dataframe to an interactive table.\"\n",
              "              style=\"display:none;\">\n",
              "        \n",
              "  <svg xmlns=\"http://www.w3.org/2000/svg\" height=\"24px\"viewBox=\"0 0 24 24\"\n",
              "       width=\"24px\">\n",
              "    <path d=\"M0 0h24v24H0V0z\" fill=\"none\"/>\n",
              "    <path d=\"M18.56 5.44l.94 2.06.94-2.06 2.06-.94-2.06-.94-.94-2.06-.94 2.06-2.06.94zm-11 1L8.5 8.5l.94-2.06 2.06-.94-2.06-.94L8.5 2.5l-.94 2.06-2.06.94zm10 10l.94 2.06.94-2.06 2.06-.94-2.06-.94-.94-2.06-.94 2.06-2.06.94z\"/><path d=\"M17.41 7.96l-1.37-1.37c-.4-.4-.92-.59-1.43-.59-.52 0-1.04.2-1.43.59L10.3 9.45l-7.72 7.72c-.78.78-.78 2.05 0 2.83L4 21.41c.39.39.9.59 1.41.59.51 0 1.02-.2 1.41-.59l7.78-7.78 2.81-2.81c.8-.78.8-2.07 0-2.86zM5.41 20L4 18.59l7.72-7.72 1.47 1.35L5.41 20z\"/>\n",
              "  </svg>\n",
              "      </button>\n",
              "      \n",
              "  <style>\n",
              "    .colab-df-container {\n",
              "      display:flex;\n",
              "      flex-wrap:wrap;\n",
              "      gap: 12px;\n",
              "    }\n",
              "\n",
              "    .colab-df-convert {\n",
              "      background-color: #E8F0FE;\n",
              "      border: none;\n",
              "      border-radius: 50%;\n",
              "      cursor: pointer;\n",
              "      display: none;\n",
              "      fill: #1967D2;\n",
              "      height: 32px;\n",
              "      padding: 0 0 0 0;\n",
              "      width: 32px;\n",
              "    }\n",
              "\n",
              "    .colab-df-convert:hover {\n",
              "      background-color: #E2EBFA;\n",
              "      box-shadow: 0px 1px 2px rgba(60, 64, 67, 0.3), 0px 1px 3px 1px rgba(60, 64, 67, 0.15);\n",
              "      fill: #174EA6;\n",
              "    }\n",
              "\n",
              "    [theme=dark] .colab-df-convert {\n",
              "      background-color: #3B4455;\n",
              "      fill: #D2E3FC;\n",
              "    }\n",
              "\n",
              "    [theme=dark] .colab-df-convert:hover {\n",
              "      background-color: #434B5C;\n",
              "      box-shadow: 0px 1px 3px 1px rgba(0, 0, 0, 0.15);\n",
              "      filter: drop-shadow(0px 1px 2px rgba(0, 0, 0, 0.3));\n",
              "      fill: #FFFFFF;\n",
              "    }\n",
              "  </style>\n",
              "\n",
              "      <script>\n",
              "        const buttonEl =\n",
              "          document.querySelector('#df-0f901332-8099-4552-a70e-922a2dd30c2c button.colab-df-convert');\n",
              "        buttonEl.style.display =\n",
              "          google.colab.kernel.accessAllowed ? 'block' : 'none';\n",
              "\n",
              "        async function convertToInteractive(key) {\n",
              "          const element = document.querySelector('#df-0f901332-8099-4552-a70e-922a2dd30c2c');\n",
              "          const dataTable =\n",
              "            await google.colab.kernel.invokeFunction('convertToInteractive',\n",
              "                                                     [key], {});\n",
              "          if (!dataTable) return;\n",
              "\n",
              "          const docLinkHtml = 'Like what you see? Visit the ' +\n",
              "            '<a target=\"_blank\" href=https://colab.research.google.com/notebooks/data_table.ipynb>data table notebook</a>'\n",
              "            + ' to learn more about interactive tables.';\n",
              "          element.innerHTML = '';\n",
              "          dataTable['output_type'] = 'display_data';\n",
              "          await google.colab.output.renderOutput(dataTable, element);\n",
              "          const docLink = document.createElement('div');\n",
              "          docLink.innerHTML = docLinkHtml;\n",
              "          element.appendChild(docLink);\n",
              "        }\n",
              "      </script>\n",
              "    </div>\n",
              "  </div>\n",
              "  "
            ]
          },
          "metadata": {},
          "execution_count": 10
        }
      ]
    },
    {
      "cell_type": "code",
      "source": [
        "data_luas_pertanian.shape"
      ],
      "metadata": {
        "colab": {
          "base_uri": "https://localhost:8080/"
        },
        "id": "kxuc0j-9zVzk",
        "outputId": "2d63c9ee-dfba-47c4-8de8-dcc21bd56eb1"
      },
      "execution_count": null,
      "outputs": [
        {
          "output_type": "execute_result",
          "data": {
            "text/plain": [
              "(408, 3)"
            ]
          },
          "metadata": {},
          "execution_count": 11
        }
      ]
    },
    {
      "cell_type": "code",
      "source": [
        "data_luas_pertanian.tahun.unique()"
      ],
      "metadata": {
        "colab": {
          "base_uri": "https://localhost:8080/"
        },
        "id": "FKd1K6BsdocC",
        "outputId": "cdbde1b3-b997-4bc0-9c0c-d032c42d32e8"
      },
      "execution_count": null,
      "outputs": [
        {
          "output_type": "execute_result",
          "data": {
            "text/plain": [
              "array([2004, 2005, 2006, 2007, 2008, 2009, 2010, 2011, 2012, 2013, 2014,\n",
              "       2015])"
            ]
          },
          "metadata": {},
          "execution_count": 12
        }
      ]
    },
    {
      "cell_type": "code",
      "source": [
        "data_tnk_pertanian.head()"
      ],
      "metadata": {
        "colab": {
          "base_uri": "https://localhost:8080/",
          "height": 206
        },
        "id": "J6YJWcOBwsSQ",
        "outputId": "c9ceed03-8f50-4aba-87d3-0023cd368ecf"
      },
      "execution_count": null,
      "outputs": [
        {
          "output_type": "execute_result",
          "data": {
            "text/plain": [
              "    province_name  tahun  prosentase_tnk\n",
              "0            aceh   2015           85.11\n",
              "1  sumatera utara   2015           82.10\n",
              "2  sumatera barat   2015           86.02\n",
              "3            riau   2015           65.61\n",
              "4           jambi   2015           74.00"
            ],
            "text/html": [
              "\n",
              "  <div id=\"df-2898d304-be94-42da-a404-253d048e3a2e\">\n",
              "    <div class=\"colab-df-container\">\n",
              "      <div>\n",
              "<style scoped>\n",
              "    .dataframe tbody tr th:only-of-type {\n",
              "        vertical-align: middle;\n",
              "    }\n",
              "\n",
              "    .dataframe tbody tr th {\n",
              "        vertical-align: top;\n",
              "    }\n",
              "\n",
              "    .dataframe thead th {\n",
              "        text-align: right;\n",
              "    }\n",
              "</style>\n",
              "<table border=\"1\" class=\"dataframe\">\n",
              "  <thead>\n",
              "    <tr style=\"text-align: right;\">\n",
              "      <th></th>\n",
              "      <th>province_name</th>\n",
              "      <th>tahun</th>\n",
              "      <th>prosentase_tnk</th>\n",
              "    </tr>\n",
              "  </thead>\n",
              "  <tbody>\n",
              "    <tr>\n",
              "      <th>0</th>\n",
              "      <td>aceh</td>\n",
              "      <td>2015</td>\n",
              "      <td>85.11</td>\n",
              "    </tr>\n",
              "    <tr>\n",
              "      <th>1</th>\n",
              "      <td>sumatera utara</td>\n",
              "      <td>2015</td>\n",
              "      <td>82.10</td>\n",
              "    </tr>\n",
              "    <tr>\n",
              "      <th>2</th>\n",
              "      <td>sumatera barat</td>\n",
              "      <td>2015</td>\n",
              "      <td>86.02</td>\n",
              "    </tr>\n",
              "    <tr>\n",
              "      <th>3</th>\n",
              "      <td>riau</td>\n",
              "      <td>2015</td>\n",
              "      <td>65.61</td>\n",
              "    </tr>\n",
              "    <tr>\n",
              "      <th>4</th>\n",
              "      <td>jambi</td>\n",
              "      <td>2015</td>\n",
              "      <td>74.00</td>\n",
              "    </tr>\n",
              "  </tbody>\n",
              "</table>\n",
              "</div>\n",
              "      <button class=\"colab-df-convert\" onclick=\"convertToInteractive('df-2898d304-be94-42da-a404-253d048e3a2e')\"\n",
              "              title=\"Convert this dataframe to an interactive table.\"\n",
              "              style=\"display:none;\">\n",
              "        \n",
              "  <svg xmlns=\"http://www.w3.org/2000/svg\" height=\"24px\"viewBox=\"0 0 24 24\"\n",
              "       width=\"24px\">\n",
              "    <path d=\"M0 0h24v24H0V0z\" fill=\"none\"/>\n",
              "    <path d=\"M18.56 5.44l.94 2.06.94-2.06 2.06-.94-2.06-.94-.94-2.06-.94 2.06-2.06.94zm-11 1L8.5 8.5l.94-2.06 2.06-.94-2.06-.94L8.5 2.5l-.94 2.06-2.06.94zm10 10l.94 2.06.94-2.06 2.06-.94-2.06-.94-.94-2.06-.94 2.06-2.06.94z\"/><path d=\"M17.41 7.96l-1.37-1.37c-.4-.4-.92-.59-1.43-.59-.52 0-1.04.2-1.43.59L10.3 9.45l-7.72 7.72c-.78.78-.78 2.05 0 2.83L4 21.41c.39.39.9.59 1.41.59.51 0 1.02-.2 1.41-.59l7.78-7.78 2.81-2.81c.8-.78.8-2.07 0-2.86zM5.41 20L4 18.59l7.72-7.72 1.47 1.35L5.41 20z\"/>\n",
              "  </svg>\n",
              "      </button>\n",
              "      \n",
              "  <style>\n",
              "    .colab-df-container {\n",
              "      display:flex;\n",
              "      flex-wrap:wrap;\n",
              "      gap: 12px;\n",
              "    }\n",
              "\n",
              "    .colab-df-convert {\n",
              "      background-color: #E8F0FE;\n",
              "      border: none;\n",
              "      border-radius: 50%;\n",
              "      cursor: pointer;\n",
              "      display: none;\n",
              "      fill: #1967D2;\n",
              "      height: 32px;\n",
              "      padding: 0 0 0 0;\n",
              "      width: 32px;\n",
              "    }\n",
              "\n",
              "    .colab-df-convert:hover {\n",
              "      background-color: #E2EBFA;\n",
              "      box-shadow: 0px 1px 2px rgba(60, 64, 67, 0.3), 0px 1px 3px 1px rgba(60, 64, 67, 0.15);\n",
              "      fill: #174EA6;\n",
              "    }\n",
              "\n",
              "    [theme=dark] .colab-df-convert {\n",
              "      background-color: #3B4455;\n",
              "      fill: #D2E3FC;\n",
              "    }\n",
              "\n",
              "    [theme=dark] .colab-df-convert:hover {\n",
              "      background-color: #434B5C;\n",
              "      box-shadow: 0px 1px 3px 1px rgba(0, 0, 0, 0.15);\n",
              "      filter: drop-shadow(0px 1px 2px rgba(0, 0, 0, 0.3));\n",
              "      fill: #FFFFFF;\n",
              "    }\n",
              "  </style>\n",
              "\n",
              "      <script>\n",
              "        const buttonEl =\n",
              "          document.querySelector('#df-2898d304-be94-42da-a404-253d048e3a2e button.colab-df-convert');\n",
              "        buttonEl.style.display =\n",
              "          google.colab.kernel.accessAllowed ? 'block' : 'none';\n",
              "\n",
              "        async function convertToInteractive(key) {\n",
              "          const element = document.querySelector('#df-2898d304-be94-42da-a404-253d048e3a2e');\n",
              "          const dataTable =\n",
              "            await google.colab.kernel.invokeFunction('convertToInteractive',\n",
              "                                                     [key], {});\n",
              "          if (!dataTable) return;\n",
              "\n",
              "          const docLinkHtml = 'Like what you see? Visit the ' +\n",
              "            '<a target=\"_blank\" href=https://colab.research.google.com/notebooks/data_table.ipynb>data table notebook</a>'\n",
              "            + ' to learn more about interactive tables.';\n",
              "          element.innerHTML = '';\n",
              "          dataTable['output_type'] = 'display_data';\n",
              "          await google.colab.output.renderOutput(dataTable, element);\n",
              "          const docLink = document.createElement('div');\n",
              "          docLink.innerHTML = docLinkHtml;\n",
              "          element.appendChild(docLink);\n",
              "        }\n",
              "      </script>\n",
              "    </div>\n",
              "  </div>\n",
              "  "
            ]
          },
          "metadata": {},
          "execution_count": 13
        }
      ]
    },
    {
      "cell_type": "code",
      "source": [
        "data_tnk_pertanian.shape"
      ],
      "metadata": {
        "colab": {
          "base_uri": "https://localhost:8080/"
        },
        "id": "htST6GwKwhK1",
        "outputId": "3d64aba6-5247-4bc7-ea60-68fb4b7b1f40"
      },
      "execution_count": null,
      "outputs": [
        {
          "output_type": "execute_result",
          "data": {
            "text/plain": [
              "(272, 3)"
            ]
          },
          "metadata": {},
          "execution_count": 14
        }
      ]
    },
    {
      "cell_type": "code",
      "source": [
        "data_tnk_pertanian.tahun.unique()"
      ],
      "metadata": {
        "colab": {
          "base_uri": "https://localhost:8080/"
        },
        "id": "ChrYQnnSdtbf",
        "outputId": "c884bd1c-30ec-4f6b-996f-80ab658c29d4"
      },
      "execution_count": null,
      "outputs": [
        {
          "output_type": "execute_result",
          "data": {
            "text/plain": [
              "array([2015, 2016, 2017, 2018, 2019, 2020, 2021, 2022])"
            ]
          },
          "metadata": {},
          "execution_count": 15
        }
      ]
    },
    {
      "cell_type": "code",
      "source": [
        "# data luas lahan pertanian dimulai dari tahun 2004 hingga tahun 2015\n",
        "# data prosentase tenaga kerja sektor pertanian, dimulai dari tahun 2015 hingga tahun 2022\n",
        "# data daily climate yang telah di join dengan data jumlah hasil panen memiliki rentang tahun yang luas\n",
        "# namun, jika kita menerapkan inner join pada semua data, maka kita hanya akan mendapatkan data di tahun 2015 saja, dan kehilangan sebagian besar data\n",
        "# maka dari itu, solusinya adalah dengan memilih:\n",
        "            # climate_sayur + luas_wilayah_pertanian\n",
        "            # atau\n",
        "            # climate_sayur + prosentase_tnk_pertanian\n"
      ],
      "metadata": {
        "id": "1OapX0QiedwI"
      },
      "execution_count": null,
      "outputs": []
    },
    {
      "cell_type": "markdown",
      "source": [
        "## **join climate, hasil panen dan luas wilayah**"
      ],
      "metadata": {
        "id": "83LB2UU40x2H"
      }
    },
    {
      "cell_type": "code",
      "source": [
        "join_1 = pd.merge(data_input, data_luas_pertanian, on = [\"province_name\", \"tahun\"], how = \"inner\")"
      ],
      "metadata": {
        "id": "AyDoGZ27zlax"
      },
      "execution_count": null,
      "outputs": []
    },
    {
      "cell_type": "code",
      "source": [
        "join_1.head()"
      ],
      "metadata": {
        "colab": {
          "base_uri": "https://localhost:8080/",
          "height": 322
        },
        "id": "psrJ8Clg0xSB",
        "outputId": "487b697e-ada9-4866-8b58-9b5bf6e860f4"
      },
      "execution_count": null,
      "outputs": [
        {
          "output_type": "execute_result",
          "data": {
            "text/plain": [
              "  province_name  tahun      nama_komoditas  hasil_panen         Tn         Tx  \\\n",
              "0          aceh   2010  Bawang Merah (Ton)       3615.0  21.927876  31.041141   \n",
              "1          aceh   2010  Bawang Putih (Ton)        161.0  21.927876  31.041141   \n",
              "2          aceh   2010   Bawang Daun (Ton)       2736.0  21.927876  31.041141   \n",
              "3          aceh   2010       Kentang (Ton)       8587.0  21.927876  31.041141   \n",
              "4          aceh   2010         Kubis (Ton)       4466.0  21.927876  31.041141   \n",
              "\n",
              "        Tavg    RH_avg         RR       ss      ff_x       ddd_x   ff_avg  \\\n",
              "0  26.119118  84.09573  15.200939  3.18452  5.175263  195.720373  2.72276   \n",
              "1  26.119118  84.09573  15.200939  3.18452  5.175263  195.720373  2.72276   \n",
              "2  26.119118  84.09573  15.200939  3.18452  5.175263  195.720373  2.72276   \n",
              "3  26.119118  84.09573  15.200939  3.18452  5.175263  195.720373  2.72276   \n",
              "4  26.119118  84.09573  15.200939  3.18452  5.175263  195.720373  2.72276   \n",
              "\n",
              "   luar_wilayah_hektar  \n",
              "0             313649.0  \n",
              "1             313649.0  \n",
              "2             313649.0  \n",
              "3             313649.0  \n",
              "4             313649.0  "
            ],
            "text/html": [
              "\n",
              "  <div id=\"df-6bba108d-d419-4a94-8668-ac242a4e1677\">\n",
              "    <div class=\"colab-df-container\">\n",
              "      <div>\n",
              "<style scoped>\n",
              "    .dataframe tbody tr th:only-of-type {\n",
              "        vertical-align: middle;\n",
              "    }\n",
              "\n",
              "    .dataframe tbody tr th {\n",
              "        vertical-align: top;\n",
              "    }\n",
              "\n",
              "    .dataframe thead th {\n",
              "        text-align: right;\n",
              "    }\n",
              "</style>\n",
              "<table border=\"1\" class=\"dataframe\">\n",
              "  <thead>\n",
              "    <tr style=\"text-align: right;\">\n",
              "      <th></th>\n",
              "      <th>province_name</th>\n",
              "      <th>tahun</th>\n",
              "      <th>nama_komoditas</th>\n",
              "      <th>hasil_panen</th>\n",
              "      <th>Tn</th>\n",
              "      <th>Tx</th>\n",
              "      <th>Tavg</th>\n",
              "      <th>RH_avg</th>\n",
              "      <th>RR</th>\n",
              "      <th>ss</th>\n",
              "      <th>ff_x</th>\n",
              "      <th>ddd_x</th>\n",
              "      <th>ff_avg</th>\n",
              "      <th>luar_wilayah_hektar</th>\n",
              "    </tr>\n",
              "  </thead>\n",
              "  <tbody>\n",
              "    <tr>\n",
              "      <th>0</th>\n",
              "      <td>aceh</td>\n",
              "      <td>2010</td>\n",
              "      <td>Bawang Merah (Ton)</td>\n",
              "      <td>3615.0</td>\n",
              "      <td>21.927876</td>\n",
              "      <td>31.041141</td>\n",
              "      <td>26.119118</td>\n",
              "      <td>84.09573</td>\n",
              "      <td>15.200939</td>\n",
              "      <td>3.18452</td>\n",
              "      <td>5.175263</td>\n",
              "      <td>195.720373</td>\n",
              "      <td>2.72276</td>\n",
              "      <td>313649.0</td>\n",
              "    </tr>\n",
              "    <tr>\n",
              "      <th>1</th>\n",
              "      <td>aceh</td>\n",
              "      <td>2010</td>\n",
              "      <td>Bawang Putih (Ton)</td>\n",
              "      <td>161.0</td>\n",
              "      <td>21.927876</td>\n",
              "      <td>31.041141</td>\n",
              "      <td>26.119118</td>\n",
              "      <td>84.09573</td>\n",
              "      <td>15.200939</td>\n",
              "      <td>3.18452</td>\n",
              "      <td>5.175263</td>\n",
              "      <td>195.720373</td>\n",
              "      <td>2.72276</td>\n",
              "      <td>313649.0</td>\n",
              "    </tr>\n",
              "    <tr>\n",
              "      <th>2</th>\n",
              "      <td>aceh</td>\n",
              "      <td>2010</td>\n",
              "      <td>Bawang Daun (Ton)</td>\n",
              "      <td>2736.0</td>\n",
              "      <td>21.927876</td>\n",
              "      <td>31.041141</td>\n",
              "      <td>26.119118</td>\n",
              "      <td>84.09573</td>\n",
              "      <td>15.200939</td>\n",
              "      <td>3.18452</td>\n",
              "      <td>5.175263</td>\n",
              "      <td>195.720373</td>\n",
              "      <td>2.72276</td>\n",
              "      <td>313649.0</td>\n",
              "    </tr>\n",
              "    <tr>\n",
              "      <th>3</th>\n",
              "      <td>aceh</td>\n",
              "      <td>2010</td>\n",
              "      <td>Kentang (Ton)</td>\n",
              "      <td>8587.0</td>\n",
              "      <td>21.927876</td>\n",
              "      <td>31.041141</td>\n",
              "      <td>26.119118</td>\n",
              "      <td>84.09573</td>\n",
              "      <td>15.200939</td>\n",
              "      <td>3.18452</td>\n",
              "      <td>5.175263</td>\n",
              "      <td>195.720373</td>\n",
              "      <td>2.72276</td>\n",
              "      <td>313649.0</td>\n",
              "    </tr>\n",
              "    <tr>\n",
              "      <th>4</th>\n",
              "      <td>aceh</td>\n",
              "      <td>2010</td>\n",
              "      <td>Kubis (Ton)</td>\n",
              "      <td>4466.0</td>\n",
              "      <td>21.927876</td>\n",
              "      <td>31.041141</td>\n",
              "      <td>26.119118</td>\n",
              "      <td>84.09573</td>\n",
              "      <td>15.200939</td>\n",
              "      <td>3.18452</td>\n",
              "      <td>5.175263</td>\n",
              "      <td>195.720373</td>\n",
              "      <td>2.72276</td>\n",
              "      <td>313649.0</td>\n",
              "    </tr>\n",
              "  </tbody>\n",
              "</table>\n",
              "</div>\n",
              "      <button class=\"colab-df-convert\" onclick=\"convertToInteractive('df-6bba108d-d419-4a94-8668-ac242a4e1677')\"\n",
              "              title=\"Convert this dataframe to an interactive table.\"\n",
              "              style=\"display:none;\">\n",
              "        \n",
              "  <svg xmlns=\"http://www.w3.org/2000/svg\" height=\"24px\"viewBox=\"0 0 24 24\"\n",
              "       width=\"24px\">\n",
              "    <path d=\"M0 0h24v24H0V0z\" fill=\"none\"/>\n",
              "    <path d=\"M18.56 5.44l.94 2.06.94-2.06 2.06-.94-2.06-.94-.94-2.06-.94 2.06-2.06.94zm-11 1L8.5 8.5l.94-2.06 2.06-.94-2.06-.94L8.5 2.5l-.94 2.06-2.06.94zm10 10l.94 2.06.94-2.06 2.06-.94-2.06-.94-.94-2.06-.94 2.06-2.06.94z\"/><path d=\"M17.41 7.96l-1.37-1.37c-.4-.4-.92-.59-1.43-.59-.52 0-1.04.2-1.43.59L10.3 9.45l-7.72 7.72c-.78.78-.78 2.05 0 2.83L4 21.41c.39.39.9.59 1.41.59.51 0 1.02-.2 1.41-.59l7.78-7.78 2.81-2.81c.8-.78.8-2.07 0-2.86zM5.41 20L4 18.59l7.72-7.72 1.47 1.35L5.41 20z\"/>\n",
              "  </svg>\n",
              "      </button>\n",
              "      \n",
              "  <style>\n",
              "    .colab-df-container {\n",
              "      display:flex;\n",
              "      flex-wrap:wrap;\n",
              "      gap: 12px;\n",
              "    }\n",
              "\n",
              "    .colab-df-convert {\n",
              "      background-color: #E8F0FE;\n",
              "      border: none;\n",
              "      border-radius: 50%;\n",
              "      cursor: pointer;\n",
              "      display: none;\n",
              "      fill: #1967D2;\n",
              "      height: 32px;\n",
              "      padding: 0 0 0 0;\n",
              "      width: 32px;\n",
              "    }\n",
              "\n",
              "    .colab-df-convert:hover {\n",
              "      background-color: #E2EBFA;\n",
              "      box-shadow: 0px 1px 2px rgba(60, 64, 67, 0.3), 0px 1px 3px 1px rgba(60, 64, 67, 0.15);\n",
              "      fill: #174EA6;\n",
              "    }\n",
              "\n",
              "    [theme=dark] .colab-df-convert {\n",
              "      background-color: #3B4455;\n",
              "      fill: #D2E3FC;\n",
              "    }\n",
              "\n",
              "    [theme=dark] .colab-df-convert:hover {\n",
              "      background-color: #434B5C;\n",
              "      box-shadow: 0px 1px 3px 1px rgba(0, 0, 0, 0.15);\n",
              "      filter: drop-shadow(0px 1px 2px rgba(0, 0, 0, 0.3));\n",
              "      fill: #FFFFFF;\n",
              "    }\n",
              "  </style>\n",
              "\n",
              "      <script>\n",
              "        const buttonEl =\n",
              "          document.querySelector('#df-6bba108d-d419-4a94-8668-ac242a4e1677 button.colab-df-convert');\n",
              "        buttonEl.style.display =\n",
              "          google.colab.kernel.accessAllowed ? 'block' : 'none';\n",
              "\n",
              "        async function convertToInteractive(key) {\n",
              "          const element = document.querySelector('#df-6bba108d-d419-4a94-8668-ac242a4e1677');\n",
              "          const dataTable =\n",
              "            await google.colab.kernel.invokeFunction('convertToInteractive',\n",
              "                                                     [key], {});\n",
              "          if (!dataTable) return;\n",
              "\n",
              "          const docLinkHtml = 'Like what you see? Visit the ' +\n",
              "            '<a target=\"_blank\" href=https://colab.research.google.com/notebooks/data_table.ipynb>data table notebook</a>'\n",
              "            + ' to learn more about interactive tables.';\n",
              "          element.innerHTML = '';\n",
              "          dataTable['output_type'] = 'display_data';\n",
              "          await google.colab.output.renderOutput(dataTable, element);\n",
              "          const docLink = document.createElement('div');\n",
              "          docLink.innerHTML = docLinkHtml;\n",
              "          element.appendChild(docLink);\n",
              "        }\n",
              "      </script>\n",
              "    </div>\n",
              "  </div>\n",
              "  "
            ]
          },
          "metadata": {},
          "execution_count": 18
        }
      ]
    },
    {
      "cell_type": "code",
      "source": [
        "join_1.columns.tolist()[3:]"
      ],
      "metadata": {
        "colab": {
          "base_uri": "https://localhost:8080/"
        },
        "id": "IngKUIPV3VlU",
        "outputId": "f10cd05d-b9f1-4d7a-946d-9630cbbfd6e5"
      },
      "execution_count": null,
      "outputs": [
        {
          "output_type": "execute_result",
          "data": {
            "text/plain": [
              "['hasil_panen',\n",
              " 'Tn',\n",
              " 'Tx',\n",
              " 'Tavg',\n",
              " 'RH_avg',\n",
              " 'RR',\n",
              " 'ss',\n",
              " 'ff_x',\n",
              " 'ddd_x',\n",
              " 'ff_avg',\n",
              " 'luar_wilayah_hektar']"
            ]
          },
          "metadata": {},
          "execution_count": 19
        }
      ]
    },
    {
      "cell_type": "code",
      "source": [
        "bawang = join_1[join_1.nama_komoditas.str.contains(r\"Bawang\\sMerah\")].groupby([\"province_name\", \"tahun\"]).agg({f\"{i}\":\"mean\" for i in join_1.columns.tolist()[3:]}).reset_index().copy()"
      ],
      "metadata": {
        "id": "UqmV5sM00_Kn"
      },
      "execution_count": null,
      "outputs": []
    },
    {
      "cell_type": "code",
      "source": [
        "bawang.head()"
      ],
      "metadata": {
        "colab": {
          "base_uri": "https://localhost:8080/",
          "height": 206
        },
        "id": "hTCQr1RuSwLb",
        "outputId": "bdba0b6f-f3c2-46d2-d6d2-bf4c03cf9a5e"
      },
      "execution_count": null,
      "outputs": [
        {
          "output_type": "execute_result",
          "data": {
            "text/plain": [
              "  province_name  tahun  hasil_panen         Tn         Tx       Tavg  \\\n",
              "0          aceh   2010       3615.0  21.927876  31.041141  26.119118   \n",
              "1          aceh   2011       2600.0  21.513379  30.800959  25.824338   \n",
              "2          aceh   2012       4387.0  22.075919  31.726088  26.738555   \n",
              "3          aceh   2013       3711.0  21.716258  30.952623  25.968164   \n",
              "4          aceh   2014       6707.0  22.094109  31.023092  25.891110   \n",
              "\n",
              "      RH_avg         RR        ss      ff_x       ddd_x    ff_avg  \\\n",
              "0  84.095730  15.200939  3.184520  5.175263  195.720373  2.722760   \n",
              "1  84.578122  14.557593  3.322084  5.004236  195.565730  2.772310   \n",
              "2  84.405678  14.439666  3.185674  5.584356  193.848669  2.715960   \n",
              "3  84.293230  14.063000  3.995801  5.145112  200.306276  2.583148   \n",
              "4  82.897616  15.225356  4.171125  5.290050  188.651790  2.377869   \n",
              "\n",
              "   luar_wilayah_hektar  \n",
              "0             313649.0  \n",
              "1             307556.0  \n",
              "2             308973.0  \n",
              "3             300808.0  \n",
              "4             294129.0  "
            ],
            "text/html": [
              "\n",
              "  <div id=\"df-76e013c3-b159-4b41-8c10-32fd8c60f889\">\n",
              "    <div class=\"colab-df-container\">\n",
              "      <div>\n",
              "<style scoped>\n",
              "    .dataframe tbody tr th:only-of-type {\n",
              "        vertical-align: middle;\n",
              "    }\n",
              "\n",
              "    .dataframe tbody tr th {\n",
              "        vertical-align: top;\n",
              "    }\n",
              "\n",
              "    .dataframe thead th {\n",
              "        text-align: right;\n",
              "    }\n",
              "</style>\n",
              "<table border=\"1\" class=\"dataframe\">\n",
              "  <thead>\n",
              "    <tr style=\"text-align: right;\">\n",
              "      <th></th>\n",
              "      <th>province_name</th>\n",
              "      <th>tahun</th>\n",
              "      <th>hasil_panen</th>\n",
              "      <th>Tn</th>\n",
              "      <th>Tx</th>\n",
              "      <th>Tavg</th>\n",
              "      <th>RH_avg</th>\n",
              "      <th>RR</th>\n",
              "      <th>ss</th>\n",
              "      <th>ff_x</th>\n",
              "      <th>ddd_x</th>\n",
              "      <th>ff_avg</th>\n",
              "      <th>luar_wilayah_hektar</th>\n",
              "    </tr>\n",
              "  </thead>\n",
              "  <tbody>\n",
              "    <tr>\n",
              "      <th>0</th>\n",
              "      <td>aceh</td>\n",
              "      <td>2010</td>\n",
              "      <td>3615.0</td>\n",
              "      <td>21.927876</td>\n",
              "      <td>31.041141</td>\n",
              "      <td>26.119118</td>\n",
              "      <td>84.095730</td>\n",
              "      <td>15.200939</td>\n",
              "      <td>3.184520</td>\n",
              "      <td>5.175263</td>\n",
              "      <td>195.720373</td>\n",
              "      <td>2.722760</td>\n",
              "      <td>313649.0</td>\n",
              "    </tr>\n",
              "    <tr>\n",
              "      <th>1</th>\n",
              "      <td>aceh</td>\n",
              "      <td>2011</td>\n",
              "      <td>2600.0</td>\n",
              "      <td>21.513379</td>\n",
              "      <td>30.800959</td>\n",
              "      <td>25.824338</td>\n",
              "      <td>84.578122</td>\n",
              "      <td>14.557593</td>\n",
              "      <td>3.322084</td>\n",
              "      <td>5.004236</td>\n",
              "      <td>195.565730</td>\n",
              "      <td>2.772310</td>\n",
              "      <td>307556.0</td>\n",
              "    </tr>\n",
              "    <tr>\n",
              "      <th>2</th>\n",
              "      <td>aceh</td>\n",
              "      <td>2012</td>\n",
              "      <td>4387.0</td>\n",
              "      <td>22.075919</td>\n",
              "      <td>31.726088</td>\n",
              "      <td>26.738555</td>\n",
              "      <td>84.405678</td>\n",
              "      <td>14.439666</td>\n",
              "      <td>3.185674</td>\n",
              "      <td>5.584356</td>\n",
              "      <td>193.848669</td>\n",
              "      <td>2.715960</td>\n",
              "      <td>308973.0</td>\n",
              "    </tr>\n",
              "    <tr>\n",
              "      <th>3</th>\n",
              "      <td>aceh</td>\n",
              "      <td>2013</td>\n",
              "      <td>3711.0</td>\n",
              "      <td>21.716258</td>\n",
              "      <td>30.952623</td>\n",
              "      <td>25.968164</td>\n",
              "      <td>84.293230</td>\n",
              "      <td>14.063000</td>\n",
              "      <td>3.995801</td>\n",
              "      <td>5.145112</td>\n",
              "      <td>200.306276</td>\n",
              "      <td>2.583148</td>\n",
              "      <td>300808.0</td>\n",
              "    </tr>\n",
              "    <tr>\n",
              "      <th>4</th>\n",
              "      <td>aceh</td>\n",
              "      <td>2014</td>\n",
              "      <td>6707.0</td>\n",
              "      <td>22.094109</td>\n",
              "      <td>31.023092</td>\n",
              "      <td>25.891110</td>\n",
              "      <td>82.897616</td>\n",
              "      <td>15.225356</td>\n",
              "      <td>4.171125</td>\n",
              "      <td>5.290050</td>\n",
              "      <td>188.651790</td>\n",
              "      <td>2.377869</td>\n",
              "      <td>294129.0</td>\n",
              "    </tr>\n",
              "  </tbody>\n",
              "</table>\n",
              "</div>\n",
              "      <button class=\"colab-df-convert\" onclick=\"convertToInteractive('df-76e013c3-b159-4b41-8c10-32fd8c60f889')\"\n",
              "              title=\"Convert this dataframe to an interactive table.\"\n",
              "              style=\"display:none;\">\n",
              "        \n",
              "  <svg xmlns=\"http://www.w3.org/2000/svg\" height=\"24px\"viewBox=\"0 0 24 24\"\n",
              "       width=\"24px\">\n",
              "    <path d=\"M0 0h24v24H0V0z\" fill=\"none\"/>\n",
              "    <path d=\"M18.56 5.44l.94 2.06.94-2.06 2.06-.94-2.06-.94-.94-2.06-.94 2.06-2.06.94zm-11 1L8.5 8.5l.94-2.06 2.06-.94-2.06-.94L8.5 2.5l-.94 2.06-2.06.94zm10 10l.94 2.06.94-2.06 2.06-.94-2.06-.94-.94-2.06-.94 2.06-2.06.94z\"/><path d=\"M17.41 7.96l-1.37-1.37c-.4-.4-.92-.59-1.43-.59-.52 0-1.04.2-1.43.59L10.3 9.45l-7.72 7.72c-.78.78-.78 2.05 0 2.83L4 21.41c.39.39.9.59 1.41.59.51 0 1.02-.2 1.41-.59l7.78-7.78 2.81-2.81c.8-.78.8-2.07 0-2.86zM5.41 20L4 18.59l7.72-7.72 1.47 1.35L5.41 20z\"/>\n",
              "  </svg>\n",
              "      </button>\n",
              "      \n",
              "  <style>\n",
              "    .colab-df-container {\n",
              "      display:flex;\n",
              "      flex-wrap:wrap;\n",
              "      gap: 12px;\n",
              "    }\n",
              "\n",
              "    .colab-df-convert {\n",
              "      background-color: #E8F0FE;\n",
              "      border: none;\n",
              "      border-radius: 50%;\n",
              "      cursor: pointer;\n",
              "      display: none;\n",
              "      fill: #1967D2;\n",
              "      height: 32px;\n",
              "      padding: 0 0 0 0;\n",
              "      width: 32px;\n",
              "    }\n",
              "\n",
              "    .colab-df-convert:hover {\n",
              "      background-color: #E2EBFA;\n",
              "      box-shadow: 0px 1px 2px rgba(60, 64, 67, 0.3), 0px 1px 3px 1px rgba(60, 64, 67, 0.15);\n",
              "      fill: #174EA6;\n",
              "    }\n",
              "\n",
              "    [theme=dark] .colab-df-convert {\n",
              "      background-color: #3B4455;\n",
              "      fill: #D2E3FC;\n",
              "    }\n",
              "\n",
              "    [theme=dark] .colab-df-convert:hover {\n",
              "      background-color: #434B5C;\n",
              "      box-shadow: 0px 1px 3px 1px rgba(0, 0, 0, 0.15);\n",
              "      filter: drop-shadow(0px 1px 2px rgba(0, 0, 0, 0.3));\n",
              "      fill: #FFFFFF;\n",
              "    }\n",
              "  </style>\n",
              "\n",
              "      <script>\n",
              "        const buttonEl =\n",
              "          document.querySelector('#df-76e013c3-b159-4b41-8c10-32fd8c60f889 button.colab-df-convert');\n",
              "        buttonEl.style.display =\n",
              "          google.colab.kernel.accessAllowed ? 'block' : 'none';\n",
              "\n",
              "        async function convertToInteractive(key) {\n",
              "          const element = document.querySelector('#df-76e013c3-b159-4b41-8c10-32fd8c60f889');\n",
              "          const dataTable =\n",
              "            await google.colab.kernel.invokeFunction('convertToInteractive',\n",
              "                                                     [key], {});\n",
              "          if (!dataTable) return;\n",
              "\n",
              "          const docLinkHtml = 'Like what you see? Visit the ' +\n",
              "            '<a target=\"_blank\" href=https://colab.research.google.com/notebooks/data_table.ipynb>data table notebook</a>'\n",
              "            + ' to learn more about interactive tables.';\n",
              "          element.innerHTML = '';\n",
              "          dataTable['output_type'] = 'display_data';\n",
              "          await google.colab.output.renderOutput(dataTable, element);\n",
              "          const docLink = document.createElement('div');\n",
              "          docLink.innerHTML = docLinkHtml;\n",
              "          element.appendChild(docLink);\n",
              "        }\n",
              "      </script>\n",
              "    </div>\n",
              "  </div>\n",
              "  "
            ]
          },
          "metadata": {},
          "execution_count": 21
        }
      ]
    },
    {
      "cell_type": "code",
      "source": [
        "join_1.columns"
      ],
      "metadata": {
        "colab": {
          "base_uri": "https://localhost:8080/"
        },
        "id": "dRwrs8OTS0WB",
        "outputId": "fcb62625-8abf-4855-da8b-2f77fffb6418"
      },
      "execution_count": null,
      "outputs": [
        {
          "output_type": "execute_result",
          "data": {
            "text/plain": [
              "Index(['province_name', 'tahun', 'nama_komoditas', 'hasil_panen', 'Tn', 'Tx',\n",
              "       'Tavg', 'RH_avg', 'RR', 'ss', 'ff_x', 'ddd_x', 'ff_avg',\n",
              "       'luar_wilayah_hektar'],\n",
              "      dtype='object')"
            ]
          },
          "metadata": {},
          "execution_count": 22
        }
      ]
    },
    {
      "cell_type": "code",
      "source": [
        "matric_join_1 = join_1.corr()"
      ],
      "metadata": {
        "colab": {
          "base_uri": "https://localhost:8080/"
        },
        "id": "KAdKzGpw0_R7",
        "outputId": "2c6120a5-b781-4364-f8b2-4772e64e33e8"
      },
      "execution_count": null,
      "outputs": [
        {
          "output_type": "stream",
          "name": "stderr",
          "text": [
            "<ipython-input-23-1c5cde174d08>:1: FutureWarning: The default value of numeric_only in DataFrame.corr is deprecated. In a future version, it will default to False. Select only valid columns or specify the value of numeric_only to silence this warning.\n",
            "  matric_join_1 = join_1.corr()\n"
          ]
        }
      ]
    },
    {
      "cell_type": "code",
      "source": [
        "sns.heatmap(matric_join_1, annot = True, cmap=\"BrBG\", fmt = \".2f\", linewidths=.5, vmin=-1, vmax=1)"
      ],
      "metadata": {
        "colab": {
          "base_uri": "https://localhost:8080/",
          "height": 579
        },
        "id": "zHcEKNay3w7J",
        "outputId": "ac003520-a609-4189-d625-f203e7d06e1b"
      },
      "execution_count": null,
      "outputs": [
        {
          "output_type": "execute_result",
          "data": {
            "text/plain": [
              "<Axes: >"
            ]
          },
          "metadata": {},
          "execution_count": 24
        },
        {
          "output_type": "display_data",
          "data": {
            "text/plain": [
              "<Figure size 640x480 with 2 Axes>"
            ],
            "image/png": "[encoded data removed]"
          },
          "metadata": {}
        }
      ]
    },
    {
      "cell_type": "code",
      "source": [
        "# heatmap diatas menunjukan korelase antar variable, dan dari situ dapat dilihat bahwa korelasi antara luas_wilayah dengan hasil panen bernilai 0.5,\n",
        "# dimana itu adalah korelasi terbaik sejauh ini"
      ],
      "metadata": {
        "id": "knzM2uVZfrBz"
      },
      "execution_count": null,
      "outputs": []
    },
    {
      "cell_type": "code",
      "source": [
        "import statsmodels.api as sm\n",
        "from statsmodels.formula.api import ols\n",
        "\n",
        "# Membuat model ANOVA\n",
        "model = ols('hasil_panen ~ province_name + tahun + nama_komoditas', data=join_1).fit()\n",
        "\n",
        "# Melakukan analisis varian dua arah\n",
        "anova_table = sm.stats.anova_lm(model, typ=2)\n",
        "\n",
        "print(anova_table)\n"
      ],
      "metadata": {
        "colab": {
          "base_uri": "https://localhost:8080/"
        },
        "id": "etbBgi8Ixf6l",
        "outputId": "39ff8e17-c51f-48a4-9f6e-6de29adbb913"
      },
      "execution_count": null,
      "outputs": [
        {
          "output_type": "stream",
          "name": "stdout",
          "text": [
            "                      sum_sq      df           F         PR(>F)\n",
            "province_name   3.068540e+12    33.0  110.560207   0.000000e+00\n",
            "nama_komoditas  6.565952e+11    24.0   32.528757  4.243893e-138\n",
            "tahun           8.573943e+08     1.0    1.019440   3.127004e-01\n",
            "Residual        4.239705e+12  5041.0         NaN            NaN\n"
          ]
        }
      ]
    },
    {
      "cell_type": "code",
      "source": [
        "# PR(>F) atau P-value yang kecil menunjukkan adanya hubungan yang signifikan antara variabel kategorikal dengan variabel kontinu. patokan yang umum digunakan adalah 0.05\n",
        "# dari data diatas, province_name memiliki p_value yang nol, nama_komoditas : 4.24 e-138 (hampir-hampir nol) dan tahun: 0.3127004 (lebih besar dari 0.05)"
      ],
      "metadata": {
        "id": "zx469rR3zgPE"
      },
      "execution_count": null,
      "outputs": []
    },
    {
      "cell_type": "code",
      "source": [
        "join_1.isna().sum()"
      ],
      "metadata": {
        "colab": {
          "base_uri": "https://localhost:8080/"
        },
        "id": "7JdSSipDTrI1",
        "outputId": "59066b73-bcf3-4fa7-8a32-a1c0dd7e66e1"
      },
      "execution_count": null,
      "outputs": [
        {
          "output_type": "execute_result",
          "data": {
            "text/plain": [
              "province_name           0\n",
              "tahun                   0\n",
              "nama_komoditas          0\n",
              "hasil_panen             0\n",
              "Tn                      0\n",
              "Tx                      0\n",
              "Tavg                    0\n",
              "RH_avg                  0\n",
              "RR                      0\n",
              "ss                      0\n",
              "ff_x                    0\n",
              "ddd_x                   0\n",
              "ff_avg                  0\n",
              "luar_wilayah_hektar    75\n",
              "dtype: int64"
            ]
          },
          "metadata": {},
          "execution_count": 28
        }
      ]
    },
    {
      "cell_type": "code",
      "source": [
        "# ada missing_values pada data luas_wilayah_hektar"
      ],
      "metadata": {
        "id": "hqSUDJotgAR8"
      },
      "execution_count": null,
      "outputs": []
    },
    {
      "cell_type": "code",
      "source": [
        "for i in join_1.columns.tolist()[3:]:\n",
        "  grouped_wilayah = join_1.groupby([\"province_name\"])[i].transform(\"mean\")\n",
        "  join_1[i].fillna(grouped_wilayah, inplace=True)\n",
        "\n",
        "  # dengan code ini, kita mengimputasi missing_values, dengan menggunakan \"mean\", berdasarkan masing-masing provinsi"
      ],
      "metadata": {
        "id": "SPBPTwZBTvqp"
      },
      "execution_count": null,
      "outputs": []
    },
    {
      "cell_type": "code",
      "source": [
        "join_1.isna().sum()"
      ],
      "metadata": {
        "colab": {
          "base_uri": "https://localhost:8080/"
        },
        "id": "Hu4NshZqVAL0",
        "outputId": "6f878964-fbbf-4019-e044-effdaff9bfc1"
      },
      "execution_count": null,
      "outputs": [
        {
          "output_type": "execute_result",
          "data": {
            "text/plain": [
              "province_name          0\n",
              "tahun                  0\n",
              "nama_komoditas         0\n",
              "hasil_panen            0\n",
              "Tn                     0\n",
              "Tx                     0\n",
              "Tavg                   0\n",
              "RH_avg                 0\n",
              "RR                     0\n",
              "ss                     0\n",
              "ff_x                   0\n",
              "ddd_x                  0\n",
              "ff_avg                 0\n",
              "luar_wilayah_hektar    0\n",
              "dtype: int64"
            ]
          },
          "metadata": {},
          "execution_count": 31
        }
      ]
    },
    {
      "cell_type": "markdown",
      "source": [
        "## **join climate, hasil panan dan jumlah tenaga kerja**"
      ],
      "metadata": {
        "id": "TQNMDVZR1Ca3"
      }
    },
    {
      "cell_type": "code",
      "source": [
        "join_2 = pd.merge(data_input, data_tnk_pertanian, on = ['province_name', 'tahun'], how = \"inner\")"
      ],
      "metadata": {
        "id": "ig2_DZrH1Isg"
      },
      "execution_count": null,
      "outputs": []
    },
    {
      "cell_type": "code",
      "source": [
        "bawang_2 = join_2[join_2.nama_komoditas.str.contains(r\"Bawang\\sMerah\")].groupby([\"province_name\", \"tahun\"]).agg({f\"{i}\":\"mean\" for i in join_2.columns.tolist()[3:]}).reset_index()"
      ],
      "metadata": {
        "id": "8F53UsZm1KYv"
      },
      "execution_count": null,
      "outputs": []
    },
    {
      "cell_type": "code",
      "source": [
        "bawang_2_corr_matric = bawang_2.corr()\n",
        "sns.heatmap(bawang_2_corr_matric,annot = True, cmap=\"BrBG\", fmt = \".2f\", linewidths=.5, vmin=-1, vmax=1)"
      ],
      "metadata": {
        "colab": {
          "base_uri": "https://localhost:8080/",
          "height": 602
        },
        "id": "4Dl4hoVd1Klv",
        "outputId": "9312a56b-b76b-4f84-cb63-931935a127ce"
      },
      "execution_count": null,
      "outputs": [
        {
          "output_type": "stream",
          "name": "stderr",
          "text": [
            "<ipython-input-34-42979a04329f>:1: FutureWarning: The default value of numeric_only in DataFrame.corr is deprecated. In a future version, it will default to False. Select only valid columns or specify the value of numeric_only to silence this warning.\n",
            "  bawang_2_corr_matric = bawang_2.corr()\n"
          ]
        },
        {
          "output_type": "execute_result",
          "data": {
            "text/plain": [
              "<Axes: >"
            ]
          },
          "metadata": {},
          "execution_count": 34
        },
        {
          "output_type": "display_data",
          "data": {
            "text/plain": [
              "<Figure size 640x480 with 2 Axes>"
            ],
            "image/png": "[encoded data removed]"
          },
          "metadata": {}
        }
      ]
    },
    {
      "cell_type": "code",
      "source": [
        "# pada grafik heatmap diatas, terlihat bahwa variabel prosentase_tnk, tidak terlalu berkorelasi dengan hasil panen\n",
        "# nilai korelase terbaik berada pada hubungan hasil_panen dengan RH_avg, yaitu -0.4 , namun kombinasi climate_sayur + luas_wilayah_pertanian,\n",
        "# masih relatif lebih baik. maka dari itu, data yang akan dijadikan sebagai data latih adalah climate_sayur + luas_wilayah"
      ],
      "metadata": {
        "id": "WUTJEDv4gfZO"
      },
      "execution_count": null,
      "outputs": []
    },
    {
      "cell_type": "code",
      "source": [
        "bawang_2.tahun = bawang_2.tahun.astype(object)"
      ],
      "metadata": {
        "id": "Z30I25fIIO3U"
      },
      "execution_count": null,
      "outputs": []
    },
    {
      "cell_type": "code",
      "source": [
        "bawang_2.info()"
      ],
      "metadata": {
        "colab": {
          "base_uri": "https://localhost:8080/"
        },
        "id": "bgQY21xGG1dl",
        "outputId": "dd3c59fa-2535-49ad-e46e-9231bc474fba"
      },
      "execution_count": null,
      "outputs": [
        {
          "output_type": "stream",
          "name": "stdout",
          "text": [
            "<class 'pandas.core.frame.DataFrame'>\n",
            "RangeIndex: 204 entries, 0 to 203\n",
            "Data columns (total 13 columns):\n",
            " #   Column          Non-Null Count  Dtype  \n",
            "---  ------          --------------  -----  \n",
            " 0   province_name   204 non-null    object \n",
            " 1   tahun           204 non-null    object \n",
            " 2   hasil_panen     204 non-null    float64\n",
            " 3   Tn              204 non-null    float64\n",
            " 4   Tx              204 non-null    float64\n",
            " 5   Tavg            204 non-null    float64\n",
            " 6   RH_avg          204 non-null    float64\n",
            " 7   RR              204 non-null    float64\n",
            " 8   ss              204 non-null    float64\n",
            " 9   ff_x            204 non-null    float64\n",
            " 10  ddd_x           204 non-null    float64\n",
            " 11  ff_avg          204 non-null    float64\n",
            " 12  prosentase_tnk  204 non-null    float64\n",
            "dtypes: float64(11), object(2)\n",
            "memory usage: 20.8+ KB\n"
          ]
        }
      ]
    },
    {
      "cell_type": "code",
      "source": [],
      "metadata": {
        "id": "jo1Xjq1ISdtw"
      },
      "execution_count": null,
      "outputs": []
    },
    {
      "cell_type": "markdown",
      "source": [
        "## **feature engineering**"
      ],
      "metadata": {
        "id": "IbfczrDjGMP6"
      }
    },
    {
      "cell_type": "code",
      "source": [
        "features_1 = join_1.copy()"
      ],
      "metadata": {
        "id": "N2uTX6jYS4p2"
      },
      "execution_count": null,
      "outputs": []
    },
    {
      "cell_type": "code",
      "source": [
        "features_1.head()"
      ],
      "metadata": {
        "colab": {
          "base_uri": "https://localhost:8080/",
          "height": 322
        },
        "id": "mAEs-eZzSY4A",
        "outputId": "45b12196-67d9-40dc-82f5-5266ec7a6bb1"
      },
      "execution_count": null,
      "outputs": [
        {
          "output_type": "execute_result",
          "data": {
            "text/plain": [
              "  province_name  tahun      nama_komoditas  hasil_panen         Tn         Tx  \\\n",
              "0          aceh   2010  Bawang Merah (Ton)       3615.0  21.927876  31.041141   \n",
              "1          aceh   2010  Bawang Putih (Ton)        161.0  21.927876  31.041141   \n",
              "2          aceh   2010   Bawang Daun (Ton)       2736.0  21.927876  31.041141   \n",
              "3          aceh   2010       Kentang (Ton)       8587.0  21.927876  31.041141   \n",
              "4          aceh   2010         Kubis (Ton)       4466.0  21.927876  31.041141   \n",
              "\n",
              "        Tavg    RH_avg         RR       ss      ff_x       ddd_x   ff_avg  \\\n",
              "0  26.119118  84.09573  15.200939  3.18452  5.175263  195.720373  2.72276   \n",
              "1  26.119118  84.09573  15.200939  3.18452  5.175263  195.720373  2.72276   \n",
              "2  26.119118  84.09573  15.200939  3.18452  5.175263  195.720373  2.72276   \n",
              "3  26.119118  84.09573  15.200939  3.18452  5.175263  195.720373  2.72276   \n",
              "4  26.119118  84.09573  15.200939  3.18452  5.175263  195.720373  2.72276   \n",
              "\n",
              "   luar_wilayah_hektar  \n",
              "0             313649.0  \n",
              "1             313649.0  \n",
              "2             313649.0  \n",
              "3             313649.0  \n",
              "4             313649.0  "
            ],
            "text/html": [
              "\n",
              "  <div id=\"df-edf409ab-9624-4e89-a7ce-2213c850e997\">\n",
              "    <div class=\"colab-df-container\">\n",
              "      <div>\n",
              "<style scoped>\n",
              "    .dataframe tbody tr th:only-of-type {\n",
              "        vertical-align: middle;\n",
              "    }\n",
              "\n",
              "    .dataframe tbody tr th {\n",
              "        vertical-align: top;\n",
              "    }\n",
              "\n",
              "    .dataframe thead th {\n",
              "        text-align: right;\n",
              "    }\n",
              "</style>\n",
              "<table border=\"1\" class=\"dataframe\">\n",
              "  <thead>\n",
              "    <tr style=\"text-align: right;\">\n",
              "      <th></th>\n",
              "      <th>province_name</th>\n",
              "      <th>tahun</th>\n",
              "      <th>nama_komoditas</th>\n",
              "      <th>hasil_panen</th>\n",
              "      <th>Tn</th>\n",
              "      <th>Tx</th>\n",
              "      <th>Tavg</th>\n",
              "      <th>RH_avg</th>\n",
              "      <th>RR</th>\n",
              "      <th>ss</th>\n",
              "      <th>ff_x</th>\n",
              "      <th>ddd_x</th>\n",
              "      <th>ff_avg</th>\n",
              "      <th>luar_wilayah_hektar</th>\n",
              "    </tr>\n",
              "  </thead>\n",
              "  <tbody>\n",
              "    <tr>\n",
              "      <th>0</th>\n",
              "      <td>aceh</td>\n",
              "      <td>2010</td>\n",
              "      <td>Bawang Merah (Ton)</td>\n",
              "      <td>3615.0</td>\n",
              "      <td>21.927876</td>\n",
              "      <td>31.041141</td>\n",
              "      <td>26.119118</td>\n",
              "      <td>84.09573</td>\n",
              "      <td>15.200939</td>\n",
              "      <td>3.18452</td>\n",
              "      <td>5.175263</td>\n",
              "      <td>195.720373</td>\n",
              "      <td>2.72276</td>\n",
              "      <td>313649.0</td>\n",
              "    </tr>\n",
              "    <tr>\n",
              "      <th>1</th>\n",
              "      <td>aceh</td>\n",
              "      <td>2010</td>\n",
              "      <td>Bawang Putih (Ton)</td>\n",
              "      <td>161.0</td>\n",
              "      <td>21.927876</td>\n",
              "      <td>31.041141</td>\n",
              "      <td>26.119118</td>\n",
              "      <td>84.09573</td>\n",
              "      <td>15.200939</td>\n",
              "      <td>3.18452</td>\n",
              "      <td>5.175263</td>\n",
              "      <td>195.720373</td>\n",
              "      <td>2.72276</td>\n",
              "      <td>313649.0</td>\n",
              "    </tr>\n",
              "    <tr>\n",
              "      <th>2</th>\n",
              "      <td>aceh</td>\n",
              "      <td>2010</td>\n",
              "      <td>Bawang Daun (Ton)</td>\n",
              "      <td>2736.0</td>\n",
              "      <td>21.927876</td>\n",
              "      <td>31.041141</td>\n",
              "      <td>26.119118</td>\n",
              "      <td>84.09573</td>\n",
              "      <td>15.200939</td>\n",
              "      <td>3.18452</td>\n",
              "      <td>5.175263</td>\n",
              "      <td>195.720373</td>\n",
              "      <td>2.72276</td>\n",
              "      <td>313649.0</td>\n",
              "    </tr>\n",
              "    <tr>\n",
              "      <th>3</th>\n",
              "      <td>aceh</td>\n",
              "      <td>2010</td>\n",
              "      <td>Kentang (Ton)</td>\n",
              "      <td>8587.0</td>\n",
              "      <td>21.927876</td>\n",
              "      <td>31.041141</td>\n",
              "      <td>26.119118</td>\n",
              "      <td>84.09573</td>\n",
              "      <td>15.200939</td>\n",
              "      <td>3.18452</td>\n",
              "      <td>5.175263</td>\n",
              "      <td>195.720373</td>\n",
              "      <td>2.72276</td>\n",
              "      <td>313649.0</td>\n",
              "    </tr>\n",
              "    <tr>\n",
              "      <th>4</th>\n",
              "      <td>aceh</td>\n",
              "      <td>2010</td>\n",
              "      <td>Kubis (Ton)</td>\n",
              "      <td>4466.0</td>\n",
              "      <td>21.927876</td>\n",
              "      <td>31.041141</td>\n",
              "      <td>26.119118</td>\n",
              "      <td>84.09573</td>\n",
              "      <td>15.200939</td>\n",
              "      <td>3.18452</td>\n",
              "      <td>5.175263</td>\n",
              "      <td>195.720373</td>\n",
              "      <td>2.72276</td>\n",
              "      <td>313649.0</td>\n",
              "    </tr>\n",
              "  </tbody>\n",
              "</table>\n",
              "</div>\n",
              "      <button class=\"colab-df-convert\" onclick=\"convertToInteractive('df-edf409ab-9624-4e89-a7ce-2213c850e997')\"\n",
              "              title=\"Convert this dataframe to an interactive table.\"\n",
              "              style=\"display:none;\">\n",
              "        \n",
              "  <svg xmlns=\"http://www.w3.org/2000/svg\" height=\"24px\"viewBox=\"0 0 24 24\"\n",
              "       width=\"24px\">\n",
              "    <path d=\"M0 0h24v24H0V0z\" fill=\"none\"/>\n",
              "    <path d=\"M18.56 5.44l.94 2.06.94-2.06 2.06-.94-2.06-.94-.94-2.06-.94 2.06-2.06.94zm-11 1L8.5 8.5l.94-2.06 2.06-.94-2.06-.94L8.5 2.5l-.94 2.06-2.06.94zm10 10l.94 2.06.94-2.06 2.06-.94-2.06-.94-.94-2.06-.94 2.06-2.06.94z\"/><path d=\"M17.41 7.96l-1.37-1.37c-.4-.4-.92-.59-1.43-.59-.52 0-1.04.2-1.43.59L10.3 9.45l-7.72 7.72c-.78.78-.78 2.05 0 2.83L4 21.41c.39.39.9.59 1.41.59.51 0 1.02-.2 1.41-.59l7.78-7.78 2.81-2.81c.8-.78.8-2.07 0-2.86zM5.41 20L4 18.59l7.72-7.72 1.47 1.35L5.41 20z\"/>\n",
              "  </svg>\n",
              "      </button>\n",
              "      \n",
              "  <style>\n",
              "    .colab-df-container {\n",
              "      display:flex;\n",
              "      flex-wrap:wrap;\n",
              "      gap: 12px;\n",
              "    }\n",
              "\n",
              "    .colab-df-convert {\n",
              "      background-color: #E8F0FE;\n",
              "      border: none;\n",
              "      border-radius: 50%;\n",
              "      cursor: pointer;\n",
              "      display: none;\n",
              "      fill: #1967D2;\n",
              "      height: 32px;\n",
              "      padding: 0 0 0 0;\n",
              "      width: 32px;\n",
              "    }\n",
              "\n",
              "    .colab-df-convert:hover {\n",
              "      background-color: #E2EBFA;\n",
              "      box-shadow: 0px 1px 2px rgba(60, 64, 67, 0.3), 0px 1px 3px 1px rgba(60, 64, 67, 0.15);\n",
              "      fill: #174EA6;\n",
              "    }\n",
              "\n",
              "    [theme=dark] .colab-df-convert {\n",
              "      background-color: #3B4455;\n",
              "      fill: #D2E3FC;\n",
              "    }\n",
              "\n",
              "    [theme=dark] .colab-df-convert:hover {\n",
              "      background-color: #434B5C;\n",
              "      box-shadow: 0px 1px 3px 1px rgba(0, 0, 0, 0.15);\n",
              "      filter: drop-shadow(0px 1px 2px rgba(0, 0, 0, 0.3));\n",
              "      fill: #FFFFFF;\n",
              "    }\n",
              "  </style>\n",
              "\n",
              "      <script>\n",
              "        const buttonEl =\n",
              "          document.querySelector('#df-edf409ab-9624-4e89-a7ce-2213c850e997 button.colab-df-convert');\n",
              "        buttonEl.style.display =\n",
              "          google.colab.kernel.accessAllowed ? 'block' : 'none';\n",
              "\n",
              "        async function convertToInteractive(key) {\n",
              "          const element = document.querySelector('#df-edf409ab-9624-4e89-a7ce-2213c850e997');\n",
              "          const dataTable =\n",
              "            await google.colab.kernel.invokeFunction('convertToInteractive',\n",
              "                                                     [key], {});\n",
              "          if (!dataTable) return;\n",
              "\n",
              "          const docLinkHtml = 'Like what you see? Visit the ' +\n",
              "            '<a target=\"_blank\" href=https://colab.research.google.com/notebooks/data_table.ipynb>data table notebook</a>'\n",
              "            + ' to learn more about interactive tables.';\n",
              "          element.innerHTML = '';\n",
              "          dataTable['output_type'] = 'display_data';\n",
              "          await google.colab.output.renderOutput(dataTable, element);\n",
              "          const docLink = document.createElement('div');\n",
              "          docLink.innerHTML = docLinkHtml;\n",
              "          element.appendChild(docLink);\n",
              "        }\n",
              "      </script>\n",
              "    </div>\n",
              "  </div>\n",
              "  "
            ]
          },
          "metadata": {},
          "execution_count": 39
        }
      ]
    },
    {
      "cell_type": "code",
      "source": [
        "features_1.info()"
      ],
      "metadata": {
        "colab": {
          "base_uri": "https://localhost:8080/"
        },
        "id": "PbWQbJBSSeQI",
        "outputId": "3f0d3cf7-ae2f-4280-ba2d-c9db902f90bd"
      },
      "execution_count": null,
      "outputs": [
        {
          "output_type": "stream",
          "name": "stdout",
          "text": [
            "<class 'pandas.core.frame.DataFrame'>\n",
            "Int64Index: 5100 entries, 0 to 5099\n",
            "Data columns (total 14 columns):\n",
            " #   Column               Non-Null Count  Dtype  \n",
            "---  ------               --------------  -----  \n",
            " 0   province_name        5100 non-null   object \n",
            " 1   tahun                5100 non-null   int64  \n",
            " 2   nama_komoditas       5100 non-null   object \n",
            " 3   hasil_panen          5100 non-null   float64\n",
            " 4   Tn                   5100 non-null   float64\n",
            " 5   Tx                   5100 non-null   float64\n",
            " 6   Tavg                 5100 non-null   float64\n",
            " 7   RH_avg               5100 non-null   float64\n",
            " 8   RR                   5100 non-null   float64\n",
            " 9   ss                   5100 non-null   float64\n",
            " 10  ff_x                 5100 non-null   float64\n",
            " 11  ddd_x                5100 non-null   float64\n",
            " 12  ff_avg               5100 non-null   float64\n",
            " 13  luar_wilayah_hektar  5100 non-null   float64\n",
            "dtypes: float64(11), int64(1), object(2)\n",
            "memory usage: 597.7+ KB\n"
          ]
        }
      ]
    },
    {
      "cell_type": "code",
      "source": [
        "poped = features_1.pop(\"hasil_panen\")\n",
        "features_1.insert(13, \"hasil_panen\", poped )"
      ],
      "metadata": {
        "id": "Dpp-KGBUGot8"
      },
      "execution_count": null,
      "outputs": []
    },
    {
      "cell_type": "code",
      "source": [
        "features_1.columns"
      ],
      "metadata": {
        "colab": {
          "base_uri": "https://localhost:8080/"
        },
        "id": "OjR5IFMKGoyl",
        "outputId": "d3de7a1a-d1e1-4f52-9a8b-0657680419e0"
      },
      "execution_count": null,
      "outputs": [
        {
          "output_type": "execute_result",
          "data": {
            "text/plain": [
              "Index(['province_name', 'tahun', 'nama_komoditas', 'Tn', 'Tx', 'Tavg',\n",
              "       'RH_avg', 'RR', 'ss', 'ff_x', 'ddd_x', 'ff_avg', 'luar_wilayah_hektar',\n",
              "       'hasil_panen'],\n",
              "      dtype='object')"
            ]
          },
          "metadata": {},
          "execution_count": 42
        }
      ]
    },
    {
      "cell_type": "code",
      "source": [
        "features_1.tahun = features_1.tahun.astype(object)"
      ],
      "metadata": {
        "id": "AO8l7CGmTJx6"
      },
      "execution_count": null,
      "outputs": []
    },
    {
      "cell_type": "code",
      "source": [
        "x = features_1.iloc[:,:-1]\n",
        "y = features_1.iloc[:,-1]"
      ],
      "metadata": {
        "id": "tObLZGI2Gcyy"
      },
      "execution_count": null,
      "outputs": []
    },
    {
      "cell_type": "code",
      "source": [
        "x.head()"
      ],
      "metadata": {
        "colab": {
          "base_uri": "https://localhost:8080/",
          "height": 250
        },
        "id": "YOsdolquHLzG",
        "outputId": "21e4ca3c-ffad-4696-8365-8b89a127746d"
      },
      "execution_count": null,
      "outputs": [
        {
          "output_type": "execute_result",
          "data": {
            "text/plain": [
              "  province_name tahun      nama_komoditas         Tn         Tx       Tavg  \\\n",
              "0          aceh  2010  Bawang Merah (Ton)  21.927876  31.041141  26.119118   \n",
              "1          aceh  2010  Bawang Putih (Ton)  21.927876  31.041141  26.119118   \n",
              "2          aceh  2010   Bawang Daun (Ton)  21.927876  31.041141  26.119118   \n",
              "3          aceh  2010       Kentang (Ton)  21.927876  31.041141  26.119118   \n",
              "4          aceh  2010         Kubis (Ton)  21.927876  31.041141  26.119118   \n",
              "\n",
              "     RH_avg         RR       ss      ff_x       ddd_x   ff_avg  \\\n",
              "0  84.09573  15.200939  3.18452  5.175263  195.720373  2.72276   \n",
              "1  84.09573  15.200939  3.18452  5.175263  195.720373  2.72276   \n",
              "2  84.09573  15.200939  3.18452  5.175263  195.720373  2.72276   \n",
              "3  84.09573  15.200939  3.18452  5.175263  195.720373  2.72276   \n",
              "4  84.09573  15.200939  3.18452  5.175263  195.720373  2.72276   \n",
              "\n",
              "   luar_wilayah_hektar  \n",
              "0             313649.0  \n",
              "1             313649.0  \n",
              "2             313649.0  \n",
              "3             313649.0  \n",
              "4             313649.0  "
            ],
            "text/html": [
              "\n",
              "  <div id=\"df-21f2bbdf-80d4-47e2-9da8-be5522ba79aa\">\n",
              "    <div class=\"colab-df-container\">\n",
              "      <div>\n",
              "<style scoped>\n",
              "    .dataframe tbody tr th:only-of-type {\n",
              "        vertical-align: middle;\n",
              "    }\n",
              "\n",
              "    .dataframe tbody tr th {\n",
              "        vertical-align: top;\n",
              "    }\n",
              "\n",
              "    .dataframe thead th {\n",
              "        text-align: right;\n",
              "    }\n",
              "</style>\n",
              "<table border=\"1\" class=\"dataframe\">\n",
              "  <thead>\n",
              "    <tr style=\"text-align: right;\">\n",
              "      <th></th>\n",
              "      <th>province_name</th>\n",
              "      <th>tahun</th>\n",
              "      <th>nama_komoditas</th>\n",
              "      <th>Tn</th>\n",
              "      <th>Tx</th>\n",
              "      <th>Tavg</th>\n",
              "      <th>RH_avg</th>\n",
              "      <th>RR</th>\n",
              "      <th>ss</th>\n",
              "      <th>ff_x</th>\n",
              "      <th>ddd_x</th>\n",
              "      <th>ff_avg</th>\n",
              "      <th>luar_wilayah_hektar</th>\n",
              "    </tr>\n",
              "  </thead>\n",
              "  <tbody>\n",
              "    <tr>\n",
              "      <th>0</th>\n",
              "      <td>aceh</td>\n",
              "      <td>2010</td>\n",
              "      <td>Bawang Merah (Ton)</td>\n",
              "      <td>21.927876</td>\n",
              "      <td>31.041141</td>\n",
              "      <td>26.119118</td>\n",
              "      <td>84.09573</td>\n",
              "      <td>15.200939</td>\n",
              "      <td>3.18452</td>\n",
              "      <td>5.175263</td>\n",
              "      <td>195.720373</td>\n",
              "      <td>2.72276</td>\n",
              "      <td>313649.0</td>\n",
              "    </tr>\n",
              "    <tr>\n",
              "      <th>1</th>\n",
              "      <td>aceh</td>\n",
              "      <td>2010</td>\n",
              "      <td>Bawang Putih (Ton)</td>\n",
              "      <td>21.927876</td>\n",
              "      <td>31.041141</td>\n",
              "      <td>26.119118</td>\n",
              "      <td>84.09573</td>\n",
              "      <td>15.200939</td>\n",
              "      <td>3.18452</td>\n",
              "      <td>5.175263</td>\n",
              "      <td>195.720373</td>\n",
              "      <td>2.72276</td>\n",
              "      <td>313649.0</td>\n",
              "    </tr>\n",
              "    <tr>\n",
              "      <th>2</th>\n",
              "      <td>aceh</td>\n",
              "      <td>2010</td>\n",
              "      <td>Bawang Daun (Ton)</td>\n",
              "      <td>21.927876</td>\n",
              "      <td>31.041141</td>\n",
              "      <td>26.119118</td>\n",
              "      <td>84.09573</td>\n",
              "      <td>15.200939</td>\n",
              "      <td>3.18452</td>\n",
              "      <td>5.175263</td>\n",
              "      <td>195.720373</td>\n",
              "      <td>2.72276</td>\n",
              "      <td>313649.0</td>\n",
              "    </tr>\n",
              "    <tr>\n",
              "      <th>3</th>\n",
              "      <td>aceh</td>\n",
              "      <td>2010</td>\n",
              "      <td>Kentang (Ton)</td>\n",
              "      <td>21.927876</td>\n",
              "      <td>31.041141</td>\n",
              "      <td>26.119118</td>\n",
              "      <td>84.09573</td>\n",
              "      <td>15.200939</td>\n",
              "      <td>3.18452</td>\n",
              "      <td>5.175263</td>\n",
              "      <td>195.720373</td>\n",
              "      <td>2.72276</td>\n",
              "      <td>313649.0</td>\n",
              "    </tr>\n",
              "    <tr>\n",
              "      <th>4</th>\n",
              "      <td>aceh</td>\n",
              "      <td>2010</td>\n",
              "      <td>Kubis (Ton)</td>\n",
              "      <td>21.927876</td>\n",
              "      <td>31.041141</td>\n",
              "      <td>26.119118</td>\n",
              "      <td>84.09573</td>\n",
              "      <td>15.200939</td>\n",
              "      <td>3.18452</td>\n",
              "      <td>5.175263</td>\n",
              "      <td>195.720373</td>\n",
              "      <td>2.72276</td>\n",
              "      <td>313649.0</td>\n",
              "    </tr>\n",
              "  </tbody>\n",
              "</table>\n",
              "</div>\n",
              "      <button class=\"colab-df-convert\" onclick=\"convertToInteractive('df-21f2bbdf-80d4-47e2-9da8-be5522ba79aa')\"\n",
              "              title=\"Convert this dataframe to an interactive table.\"\n",
              "              style=\"display:none;\">\n",
              "        \n",
              "  <svg xmlns=\"http://www.w3.org/2000/svg\" height=\"24px\"viewBox=\"0 0 24 24\"\n",
              "       width=\"24px\">\n",
              "    <path d=\"M0 0h24v24H0V0z\" fill=\"none\"/>\n",
              "    <path d=\"M18.56 5.44l.94 2.06.94-2.06 2.06-.94-2.06-.94-.94-2.06-.94 2.06-2.06.94zm-11 1L8.5 8.5l.94-2.06 2.06-.94-2.06-.94L8.5 2.5l-.94 2.06-2.06.94zm10 10l.94 2.06.94-2.06 2.06-.94-2.06-.94-.94-2.06-.94 2.06-2.06.94z\"/><path d=\"M17.41 7.96l-1.37-1.37c-.4-.4-.92-.59-1.43-.59-.52 0-1.04.2-1.43.59L10.3 9.45l-7.72 7.72c-.78.78-.78 2.05 0 2.83L4 21.41c.39.39.9.59 1.41.59.51 0 1.02-.2 1.41-.59l7.78-7.78 2.81-2.81c.8-.78.8-2.07 0-2.86zM5.41 20L4 18.59l7.72-7.72 1.47 1.35L5.41 20z\"/>\n",
              "  </svg>\n",
              "      </button>\n",
              "      \n",
              "  <style>\n",
              "    .colab-df-container {\n",
              "      display:flex;\n",
              "      flex-wrap:wrap;\n",
              "      gap: 12px;\n",
              "    }\n",
              "\n",
              "    .colab-df-convert {\n",
              "      background-color: #E8F0FE;\n",
              "      border: none;\n",
              "      border-radius: 50%;\n",
              "      cursor: pointer;\n",
              "      display: none;\n",
              "      fill: #1967D2;\n",
              "      height: 32px;\n",
              "      padding: 0 0 0 0;\n",
              "      width: 32px;\n",
              "    }\n",
              "\n",
              "    .colab-df-convert:hover {\n",
              "      background-color: #E2EBFA;\n",
              "      box-shadow: 0px 1px 2px rgba(60, 64, 67, 0.3), 0px 1px 3px 1px rgba(60, 64, 67, 0.15);\n",
              "      fill: #174EA6;\n",
              "    }\n",
              "\n",
              "    [theme=dark] .colab-df-convert {\n",
              "      background-color: #3B4455;\n",
              "      fill: #D2E3FC;\n",
              "    }\n",
              "\n",
              "    [theme=dark] .colab-df-convert:hover {\n",
              "      background-color: #434B5C;\n",
              "      box-shadow: 0px 1px 3px 1px rgba(0, 0, 0, 0.15);\n",
              "      filter: drop-shadow(0px 1px 2px rgba(0, 0, 0, 0.3));\n",
              "      fill: #FFFFFF;\n",
              "    }\n",
              "  </style>\n",
              "\n",
              "      <script>\n",
              "        const buttonEl =\n",
              "          document.querySelector('#df-21f2bbdf-80d4-47e2-9da8-be5522ba79aa button.colab-df-convert');\n",
              "        buttonEl.style.display =\n",
              "          google.colab.kernel.accessAllowed ? 'block' : 'none';\n",
              "\n",
              "        async function convertToInteractive(key) {\n",
              "          const element = document.querySelector('#df-21f2bbdf-80d4-47e2-9da8-be5522ba79aa');\n",
              "          const dataTable =\n",
              "            await google.colab.kernel.invokeFunction('convertToInteractive',\n",
              "                                                     [key], {});\n",
              "          if (!dataTable) return;\n",
              "\n",
              "          const docLinkHtml = 'Like what you see? Visit the ' +\n",
              "            '<a target=\"_blank\" href=https://colab.research.google.com/notebooks/data_table.ipynb>data table notebook</a>'\n",
              "            + ' to learn more about interactive tables.';\n",
              "          element.innerHTML = '';\n",
              "          dataTable['output_type'] = 'display_data';\n",
              "          await google.colab.output.renderOutput(dataTable, element);\n",
              "          const docLink = document.createElement('div');\n",
              "          docLink.innerHTML = docLinkHtml;\n",
              "          element.appendChild(docLink);\n",
              "        }\n",
              "      </script>\n",
              "    </div>\n",
              "  </div>\n",
              "  "
            ]
          },
          "metadata": {},
          "execution_count": 45
        }
      ]
    },
    {
      "cell_type": "code",
      "source": [
        "x.info()"
      ],
      "metadata": {
        "colab": {
          "base_uri": "https://localhost:8080/"
        },
        "id": "V_xQGI9PSBHh",
        "outputId": "ed32702d-4ab4-494e-91b1-a504266c8b81"
      },
      "execution_count": null,
      "outputs": [
        {
          "output_type": "stream",
          "name": "stdout",
          "text": [
            "<class 'pandas.core.frame.DataFrame'>\n",
            "Int64Index: 5100 entries, 0 to 5099\n",
            "Data columns (total 13 columns):\n",
            " #   Column               Non-Null Count  Dtype  \n",
            "---  ------               --------------  -----  \n",
            " 0   province_name        5100 non-null   object \n",
            " 1   tahun                5100 non-null   object \n",
            " 2   nama_komoditas       5100 non-null   object \n",
            " 3   Tn                   5100 non-null   float64\n",
            " 4   Tx                   5100 non-null   float64\n",
            " 5   Tavg                 5100 non-null   float64\n",
            " 6   RH_avg               5100 non-null   float64\n",
            " 7   RR                   5100 non-null   float64\n",
            " 8   ss                   5100 non-null   float64\n",
            " 9   ff_x                 5100 non-null   float64\n",
            " 10  ddd_x                5100 non-null   float64\n",
            " 11  ff_avg               5100 non-null   float64\n",
            " 12  luar_wilayah_hektar  5100 non-null   float64\n",
            "dtypes: float64(10), object(3)\n",
            "memory usage: 557.8+ KB\n"
          ]
        }
      ]
    },
    {
      "cell_type": "code",
      "source": [
        "y.info()"
      ],
      "metadata": {
        "colab": {
          "base_uri": "https://localhost:8080/"
        },
        "id": "raq4jq0iSGLF",
        "outputId": "fad99a14-d72f-4504-906d-b92abd5c2e63"
      },
      "execution_count": null,
      "outputs": [
        {
          "output_type": "stream",
          "name": "stdout",
          "text": [
            "<class 'pandas.core.series.Series'>\n",
            "Int64Index: 5100 entries, 0 to 5099\n",
            "Series name: hasil_panen\n",
            "Non-Null Count  Dtype  \n",
            "--------------  -----  \n",
            "5100 non-null   float64\n",
            "dtypes: float64(1)\n",
            "memory usage: 79.7 KB\n"
          ]
        }
      ]
    },
    {
      "cell_type": "code",
      "source": [
        "x = pd.get_dummies(x) # melakukan one hot encoding pada data-data categorical"
      ],
      "metadata": {
        "colab": {
          "base_uri": "https://localhost:8080/"
        },
        "id": "2FcV6MR9HaUP",
        "outputId": "aecbaf7c-ef9f-49e1-c7a3-96e03f8d9715"
      },
      "execution_count": null,
      "outputs": [
        {
          "output_type": "stream",
          "name": "stderr",
          "text": [
            "<ipython-input-48-9e5de79f8670>:1: FutureWarning: In a future version, the Index constructor will not infer numeric dtypes when passed object-dtype sequences (matching Series behavior)\n",
            "  x = pd.get_dummies(x) # melakukan one hot encoding pada data-data categorical\n"
          ]
        }
      ]
    },
    {
      "cell_type": "code",
      "source": [
        "x.head()"
      ],
      "metadata": {
        "colab": {
          "base_uri": "https://localhost:8080/",
          "height": 317
        },
        "id": "Ezr2lMs8HwD7",
        "outputId": "28d6fa31-d08b-4bfe-d14a-f5a39e1963b1"
      },
      "execution_count": null,
      "outputs": [
        {
          "output_type": "execute_result",
          "data": {
            "text/plain": [
              "          Tn         Tx       Tavg    RH_avg         RR       ss      ff_x  \\\n",
              "0  21.927876  31.041141  26.119118  84.09573  15.200939  3.18452  5.175263   \n",
              "1  21.927876  31.041141  26.119118  84.09573  15.200939  3.18452  5.175263   \n",
              "2  21.927876  31.041141  26.119118  84.09573  15.200939  3.18452  5.175263   \n",
              "3  21.927876  31.041141  26.119118  84.09573  15.200939  3.18452  5.175263   \n",
              "4  21.927876  31.041141  26.119118  84.09573  15.200939  3.18452  5.175263   \n",
              "\n",
              "        ddd_x   ff_avg  luar_wilayah_hektar  ...  nama_komoditas_Kubis (Ton)  \\\n",
              "0  195.720373  2.72276             313649.0  ...                           0   \n",
              "1  195.720373  2.72276             313649.0  ...                           0   \n",
              "2  195.720373  2.72276             313649.0  ...                           0   \n",
              "3  195.720373  2.72276             313649.0  ...                           0   \n",
              "4  195.720373  2.72276             313649.0  ...                           1   \n",
              "\n",
              "   nama_komoditas_Labu Siam (Ton)  nama_komoditas_Lobak (Ton)  \\\n",
              "0                               0                           0   \n",
              "1                               0                           0   \n",
              "2                               0                           0   \n",
              "3                               0                           0   \n",
              "4                               0                           0   \n",
              "\n",
              "   nama_komoditas_Melinjo (Ton)  nama_komoditas_Paprika (Ton)  \\\n",
              "0                             0                             0   \n",
              "1                             0                             0   \n",
              "2                             0                             0   \n",
              "3                             0                             0   \n",
              "4                             0                             0   \n",
              "\n",
              "   nama_komoditas_Petai (Ton)  nama_komoditas_Petsai/Sawi (Ton)  \\\n",
              "0                           0                                 0   \n",
              "1                           0                                 0   \n",
              "2                           0                                 0   \n",
              "3                           0                                 0   \n",
              "4                           0                                 0   \n",
              "\n",
              "   nama_komoditas_Terung (Ton)  nama_komoditas_Tomat (Ton)  \\\n",
              "0                            0                           0   \n",
              "1                            0                           0   \n",
              "2                            0                           0   \n",
              "3                            0                           0   \n",
              "4                            0                           0   \n",
              "\n",
              "   nama_komoditas_Wortel (Ton)  \n",
              "0                            0  \n",
              "1                            0  \n",
              "2                            0  \n",
              "3                            0  \n",
              "4                            0  \n",
              "\n",
              "[5 rows x 75 columns]"
            ],
            "text/html": [
              "\n",
              "  <div id=\"df-0e63c0aa-78e9-4ae2-98fe-1a3419526908\">\n",
              "    <div class=\"colab-df-container\">\n",
              "      <div>\n",
              "<style scoped>\n",
              "    .dataframe tbody tr th:only-of-type {\n",
              "        vertical-align: middle;\n",
              "    }\n",
              "\n",
              "    .dataframe tbody tr th {\n",
              "        vertical-align: top;\n",
              "    }\n",
              "\n",
              "    .dataframe thead th {\n",
              "        text-align: right;\n",
              "    }\n",
              "</style>\n",
              "<table border=\"1\" class=\"dataframe\">\n",
              "  <thead>\n",
              "    <tr style=\"text-align: right;\">\n",
              "      <th></th>\n",
              "      <th>Tn</th>\n",
              "      <th>Tx</th>\n",
              "      <th>Tavg</th>\n",
              "      <th>RH_avg</th>\n",
              "      <th>RR</th>\n",
              "      <th>ss</th>\n",
              "      <th>ff_x</th>\n",
              "      <th>ddd_x</th>\n",
              "      <th>ff_avg</th>\n",
              "      <th>luar_wilayah_hektar</th>\n",
              "      <th>...</th>\n",
              "      <th>nama_komoditas_Kubis (Ton)</th>\n",
              "      <th>nama_komoditas_Labu Siam (Ton)</th>\n",
              "      <th>nama_komoditas_Lobak (Ton)</th>\n",
              "      <th>nama_komoditas_Melinjo (Ton)</th>\n",
              "      <th>nama_komoditas_Paprika (Ton)</th>\n",
              "      <th>nama_komoditas_Petai (Ton)</th>\n",
              "      <th>nama_komoditas_Petsai/Sawi (Ton)</th>\n",
              "      <th>nama_komoditas_Terung (Ton)</th>\n",
              "      <th>nama_komoditas_Tomat (Ton)</th>\n",
              "      <th>nama_komoditas_Wortel (Ton)</th>\n",
              "    </tr>\n",
              "  </thead>\n",
              "  <tbody>\n",
              "    <tr>\n",
              "      <th>0</th>\n",
              "      <td>21.927876</td>\n",
              "      <td>31.041141</td>\n",
              "      <td>26.119118</td>\n",
              "      <td>84.09573</td>\n",
              "      <td>15.200939</td>\n",
              "      <td>3.18452</td>\n",
              "      <td>5.175263</td>\n",
              "      <td>195.720373</td>\n",
              "      <td>2.72276</td>\n",
              "      <td>313649.0</td>\n",
              "      <td>...</td>\n",
              "      <td>0</td>\n",
              "      <td>0</td>\n",
              "      <td>0</td>\n",
              "      <td>0</td>\n",
              "      <td>0</td>\n",
              "      <td>0</td>\n",
              "      <td>0</td>\n",
              "      <td>0</td>\n",
              "      <td>0</td>\n",
              "      <td>0</td>\n",
              "    </tr>\n",
              "    <tr>\n",
              "      <th>1</th>\n",
              "      <td>21.927876</td>\n",
              "      <td>31.041141</td>\n",
              "      <td>26.119118</td>\n",
              "      <td>84.09573</td>\n",
              "      <td>15.200939</td>\n",
              "      <td>3.18452</td>\n",
              "      <td>5.175263</td>\n",
              "      <td>195.720373</td>\n",
              "      <td>2.72276</td>\n",
              "      <td>313649.0</td>\n",
              "      <td>...</td>\n",
              "      <td>0</td>\n",
              "      <td>0</td>\n",
              "      <td>0</td>\n",
              "      <td>0</td>\n",
              "      <td>0</td>\n",
              "      <td>0</td>\n",
              "      <td>0</td>\n",
              "      <td>0</td>\n",
              "      <td>0</td>\n",
              "      <td>0</td>\n",
              "    </tr>\n",
              "    <tr>\n",
              "      <th>2</th>\n",
              "      <td>21.927876</td>\n",
              "      <td>31.041141</td>\n",
              "      <td>26.119118</td>\n",
              "      <td>84.09573</td>\n",
              "      <td>15.200939</td>\n",
              "      <td>3.18452</td>\n",
              "      <td>5.175263</td>\n",
              "      <td>195.720373</td>\n",
              "      <td>2.72276</td>\n",
              "      <td>313649.0</td>\n",
              "      <td>...</td>\n",
              "      <td>0</td>\n",
              "      <td>0</td>\n",
              "      <td>0</td>\n",
              "      <td>0</td>\n",
              "      <td>0</td>\n",
              "      <td>0</td>\n",
              "      <td>0</td>\n",
              "      <td>0</td>\n",
              "      <td>0</td>\n",
              "      <td>0</td>\n",
              "    </tr>\n",
              "    <tr>\n",
              "      <th>3</th>\n",
              "      <td>21.927876</td>\n",
              "      <td>31.041141</td>\n",
              "      <td>26.119118</td>\n",
              "      <td>84.09573</td>\n",
              "      <td>15.200939</td>\n",
              "      <td>3.18452</td>\n",
              "      <td>5.175263</td>\n",
              "      <td>195.720373</td>\n",
              "      <td>2.72276</td>\n",
              "      <td>313649.0</td>\n",
              "      <td>...</td>\n",
              "      <td>0</td>\n",
              "      <td>0</td>\n",
              "      <td>0</td>\n",
              "      <td>0</td>\n",
              "      <td>0</td>\n",
              "      <td>0</td>\n",
              "      <td>0</td>\n",
              "      <td>0</td>\n",
              "      <td>0</td>\n",
              "      <td>0</td>\n",
              "    </tr>\n",
              "    <tr>\n",
              "      <th>4</th>\n",
              "      <td>21.927876</td>\n",
              "      <td>31.041141</td>\n",
              "      <td>26.119118</td>\n",
              "      <td>84.09573</td>\n",
              "      <td>15.200939</td>\n",
              "      <td>3.18452</td>\n",
              "      <td>5.175263</td>\n",
              "      <td>195.720373</td>\n",
              "      <td>2.72276</td>\n",
              "      <td>313649.0</td>\n",
              "      <td>...</td>\n",
              "      <td>1</td>\n",
              "      <td>0</td>\n",
              "      <td>0</td>\n",
              "      <td>0</td>\n",
              "      <td>0</td>\n",
              "      <td>0</td>\n",
              "      <td>0</td>\n",
              "      <td>0</td>\n",
              "      <td>0</td>\n",
              "      <td>0</td>\n",
              "    </tr>\n",
              "  </tbody>\n",
              "</table>\n",
              "<p>5 rows × 75 columns</p>\n",
              "</div>\n",
              "      <button class=\"colab-df-convert\" onclick=\"convertToInteractive('df-0e63c0aa-78e9-4ae2-98fe-1a3419526908')\"\n",
              "              title=\"Convert this dataframe to an interactive table.\"\n",
              "              style=\"display:none;\">\n",
              "        \n",
              "  <svg xmlns=\"http://www.w3.org/2000/svg\" height=\"24px\"viewBox=\"0 0 24 24\"\n",
              "       width=\"24px\">\n",
              "    <path d=\"M0 0h24v24H0V0z\" fill=\"none\"/>\n",
              "    <path d=\"M18.56 5.44l.94 2.06.94-2.06 2.06-.94-2.06-.94-.94-2.06-.94 2.06-2.06.94zm-11 1L8.5 8.5l.94-2.06 2.06-.94-2.06-.94L8.5 2.5l-.94 2.06-2.06.94zm10 10l.94 2.06.94-2.06 2.06-.94-2.06-.94-.94-2.06-.94 2.06-2.06.94z\"/><path d=\"M17.41 7.96l-1.37-1.37c-.4-.4-.92-.59-1.43-.59-.52 0-1.04.2-1.43.59L10.3 9.45l-7.72 7.72c-.78.78-.78 2.05 0 2.83L4 21.41c.39.39.9.59 1.41.59.51 0 1.02-.2 1.41-.59l7.78-7.78 2.81-2.81c.8-.78.8-2.07 0-2.86zM5.41 20L4 18.59l7.72-7.72 1.47 1.35L5.41 20z\"/>\n",
              "  </svg>\n",
              "      </button>\n",
              "      \n",
              "  <style>\n",
              "    .colab-df-container {\n",
              "      display:flex;\n",
              "      flex-wrap:wrap;\n",
              "      gap: 12px;\n",
              "    }\n",
              "\n",
              "    .colab-df-convert {\n",
              "      background-color: #E8F0FE;\n",
              "      border: none;\n",
              "      border-radius: 50%;\n",
              "      cursor: pointer;\n",
              "      display: none;\n",
              "      fill: #1967D2;\n",
              "      height: 32px;\n",
              "      padding: 0 0 0 0;\n",
              "      width: 32px;\n",
              "    }\n",
              "\n",
              "    .colab-df-convert:hover {\n",
              "      background-color: #E2EBFA;\n",
              "      box-shadow: 0px 1px 2px rgba(60, 64, 67, 0.3), 0px 1px 3px 1px rgba(60, 64, 67, 0.15);\n",
              "      fill: #174EA6;\n",
              "    }\n",
              "\n",
              "    [theme=dark] .colab-df-convert {\n",
              "      background-color: #3B4455;\n",
              "      fill: #D2E3FC;\n",
              "    }\n",
              "\n",
              "    [theme=dark] .colab-df-convert:hover {\n",
              "      background-color: #434B5C;\n",
              "      box-shadow: 0px 1px 3px 1px rgba(0, 0, 0, 0.15);\n",
              "      filter: drop-shadow(0px 1px 2px rgba(0, 0, 0, 0.3));\n",
              "      fill: #FFFFFF;\n",
              "    }\n",
              "  </style>\n",
              "\n",
              "      <script>\n",
              "        const buttonEl =\n",
              "          document.querySelector('#df-0e63c0aa-78e9-4ae2-98fe-1a3419526908 button.colab-df-convert');\n",
              "        buttonEl.style.display =\n",
              "          google.colab.kernel.accessAllowed ? 'block' : 'none';\n",
              "\n",
              "        async function convertToInteractive(key) {\n",
              "          const element = document.querySelector('#df-0e63c0aa-78e9-4ae2-98fe-1a3419526908');\n",
              "          const dataTable =\n",
              "            await google.colab.kernel.invokeFunction('convertToInteractive',\n",
              "                                                     [key], {});\n",
              "          if (!dataTable) return;\n",
              "\n",
              "          const docLinkHtml = 'Like what you see? Visit the ' +\n",
              "            '<a target=\"_blank\" href=https://colab.research.google.com/notebooks/data_table.ipynb>data table notebook</a>'\n",
              "            + ' to learn more about interactive tables.';\n",
              "          element.innerHTML = '';\n",
              "          dataTable['output_type'] = 'display_data';\n",
              "          await google.colab.output.renderOutput(dataTable, element);\n",
              "          const docLink = document.createElement('div');\n",
              "          docLink.innerHTML = docLinkHtml;\n",
              "          element.appendChild(docLink);\n",
              "        }\n",
              "      </script>\n",
              "    </div>\n",
              "  </div>\n",
              "  "
            ]
          },
          "metadata": {},
          "execution_count": 49
        }
      ]
    },
    {
      "cell_type": "code",
      "source": [
        "from sklearn.preprocessing import StandardScaler\n",
        "scaler = StandardScaler()\n",
        "x = scaler.fit_transform(x)\n",
        "\n",
        "# scalling dengan menggunakan metode z-score"
      ],
      "metadata": {
        "id": "_pQNU-haGLip"
      },
      "execution_count": null,
      "outputs": []
    },
    {
      "cell_type": "code",
      "source": [
        "x"
      ],
      "metadata": {
        "colab": {
          "base_uri": "https://localhost:8080/"
        },
        "id": "ZSwewPh7GLsF",
        "outputId": "cc9d27b5-edb6-4fe0-c319-b95eb408f6de"
      },
      "execution_count": null,
      "outputs": [
        {
          "output_type": "execute_result",
          "data": {
            "text/plain": [
              "array([[-1.45928007, -0.70291604, -0.92843804, ..., -0.20412415,\n",
              "        -0.20412415, -0.20412415],\n",
              "       [-1.45928007, -0.70291604, -0.92843804, ..., -0.20412415,\n",
              "        -0.20412415, -0.20412415],\n",
              "       [-1.45928007, -0.70291604, -0.92843804, ..., -0.20412415,\n",
              "        -0.20412415, -0.20412415],\n",
              "       ...,\n",
              "       [-0.69158984, -1.26217855, -0.92035868, ..., -0.20412415,\n",
              "        -0.20412415, -0.20412415],\n",
              "       [-0.69158984, -1.26217855, -0.92035868, ..., -0.20412415,\n",
              "        -0.20412415, -0.20412415],\n",
              "       [-0.69158984, -1.26217855, -0.92035868, ..., -0.20412415,\n",
              "        -0.20412415, -0.20412415]])"
            ]
          },
          "metadata": {},
          "execution_count": 51
        }
      ]
    },
    {
      "cell_type": "code",
      "source": [
        "from sklearn.model_selection import train_test_split\n",
        "x_train, x_test, y_train, y_test = train_test_split(x, y, test_size = 0.2, random_state = 42)"
      ],
      "metadata": {
        "id": "H_XHmqGAGL09"
      },
      "execution_count": null,
      "outputs": []
    },
    {
      "cell_type": "code",
      "source": [
        "# x_test dan y_test akan digunakan untuk menguji prediksi yang dibuat oleh model"
      ],
      "metadata": {
        "id": "0loq-makjaI0"
      },
      "execution_count": null,
      "outputs": []
    },
    {
      "cell_type": "code",
      "source": [
        "x_train.shape"
      ],
      "metadata": {
        "id": "6zbJFZWHWDt3",
        "colab": {
          "base_uri": "https://localhost:8080/"
        },
        "outputId": "20bbdd7d-18e7-445c-b96f-32850302770f"
      },
      "execution_count": null,
      "outputs": [
        {
          "output_type": "execute_result",
          "data": {
            "text/plain": [
              "(4080, 75)"
            ]
          },
          "metadata": {},
          "execution_count": 54
        }
      ]
    },
    {
      "cell_type": "code",
      "source": [
        "x_test.shape"
      ],
      "metadata": {
        "colab": {
          "base_uri": "https://localhost:8080/"
        },
        "id": "rzKZCeCGUZFP",
        "outputId": "d298f358-4c4b-4150-d800-fbadfb60c510"
      },
      "execution_count": null,
      "outputs": [
        {
          "output_type": "execute_result",
          "data": {
            "text/plain": [
              "(1020, 75)"
            ]
          },
          "metadata": {},
          "execution_count": 55
        }
      ]
    },
    {
      "cell_type": "code",
      "source": [
        "y_train.shape"
      ],
      "metadata": {
        "colab": {
          "base_uri": "https://localhost:8080/"
        },
        "id": "6BeJe9llUZMm",
        "outputId": "f62c1228-81e3-480f-9230-b37c80598a19"
      },
      "execution_count": null,
      "outputs": [
        {
          "output_type": "execute_result",
          "data": {
            "text/plain": [
              "(4080,)"
            ]
          },
          "metadata": {},
          "execution_count": 56
        }
      ]
    },
    {
      "cell_type": "code",
      "source": [
        "y_test.shape"
      ],
      "metadata": {
        "colab": {
          "base_uri": "https://localhost:8080/"
        },
        "id": "bFR29gzJUZX8",
        "outputId": "b5da171c-047c-468f-fef8-03f06bb8ccc3"
      },
      "execution_count": null,
      "outputs": [
        {
          "output_type": "execute_result",
          "data": {
            "text/plain": [
              "(1020,)"
            ]
          },
          "metadata": {},
          "execution_count": 57
        }
      ]
    },
    {
      "cell_type": "markdown",
      "source": [
        "## melatih model sebelum dilakukan hyperparameter tunning"
      ],
      "metadata": {
        "id": "4-QRTyA2WEKq"
      }
    },
    {
      "cell_type": "code",
      "source": [
        "import math\n",
        "def calculate_rmse(mse):\n",
        "  rsme = math.sqrt(mse)\n",
        "  return rsme\n",
        "  #function untuk menghitung RMSE"
      ],
      "metadata": {
        "id": "WrFmDD4tZa17"
      },
      "execution_count": null,
      "outputs": []
    },
    {
      "cell_type": "code",
      "source": [
        "from sklearn.ensemble import RandomForestRegressor\n",
        "model = RandomForestRegressor()\n",
        "cv_scores = cross_val_score(estimator = model, X = x_train, y = y_train, cv=10, scoring='neg_mean_squared_error')\n",
        "# menguji akurasi dan tingkat error pada model, sebelum dilakukan hyperparameter tunning"
      ],
      "metadata": {
        "id": "uToNr--gPJ_f"
      },
      "execution_count": null,
      "outputs": []
    },
    {
      "cell_type": "code",
      "source": [
        "mae = -cv_scores\n",
        "mean_mae = np.mean(mae)\n",
        "mean_mae\n",
        "# ini adalah nilai MSE nya"
      ],
      "metadata": {
        "colab": {
          "base_uri": "https://localhost:8080/"
        },
        "id": "w76KscLqin_t",
        "outputId": "b705a934-4d64-459b-f9c2-dcfeb38d152d"
      },
      "execution_count": null,
      "outputs": [
        {
          "output_type": "execute_result",
          "data": {
            "text/plain": [
              "77662953.63139576"
            ]
          },
          "metadata": {},
          "execution_count": 59
        }
      ]
    },
    {
      "cell_type": "code",
      "source": [
        "print(\"RMSE : \",round(calculate_rmse(mean_mae), 2))"
      ],
      "metadata": {
        "colab": {
          "base_uri": "https://localhost:8080/"
        },
        "id": "vKlxdX4UZmu9",
        "outputId": "6282bc6f-ff20-4140-cd4b-005ff6cdd86f"
      },
      "execution_count": null,
      "outputs": [
        {
          "output_type": "stream",
          "name": "stdout",
          "text": [
            "RMSE :  8812.66\n"
          ]
        }
      ]
    },
    {
      "cell_type": "code",
      "source": [
        "mae_score = cv_scores*-1"
      ],
      "metadata": {
        "id": "JuMRA66TPKEm"
      },
      "execution_count": null,
      "outputs": []
    },
    {
      "cell_type": "code",
      "source": [
        "r_squared_scores = 1 - (mae_score / np.var(y))\n",
        "r_squared_scores # ini adalah nilai R2 untuk masing-masing validation fold"
      ],
      "metadata": {
        "colab": {
          "base_uri": "https://localhost:8080/"
        },
        "id": "VT7TdKoeiYPh",
        "outputId": "c3d82744-680c-4ad0-e1dc-dfbf66f2978b"
      },
      "execution_count": null,
      "outputs": [
        {
          "output_type": "execute_result",
          "data": {
            "text/plain": [
              "array([0.94059198, 0.95455739, 0.9341192 , 0.98096533, 0.94580066,\n",
              "       0.95088272, 0.95251092, 0.91920715, 0.96495777, 0.95917352])"
            ]
          },
          "metadata": {},
          "execution_count": 61
        }
      ]
    },
    {
      "cell_type": "code",
      "source": [
        "mean_r_squared = np.mean(r_squared_scores)\n",
        "print(mean_r_squared) # ini adalah rata-rata R2"
      ],
      "metadata": {
        "colab": {
          "base_uri": "https://localhost:8080/"
        },
        "id": "ioeori-bo_4A",
        "outputId": "f934b9f3-0beb-42d8-a221-1a46f621bfe5"
      },
      "execution_count": null,
      "outputs": [
        {
          "output_type": "stream",
          "name": "stdout",
          "text": [
            "0.9502766650131591\n"
          ]
        }
      ]
    },
    {
      "cell_type": "markdown",
      "source": [
        "## menggunakan gridsearch dan cross validation untuk hyperparameter tunning"
      ],
      "metadata": {
        "id": "RyYYu1WtDw3S"
      }
    },
    {
      "cell_type": "code",
      "source": [
        "from sklearn.model_selection import GridSearchCV\n",
        "\n",
        "\n",
        "regressor = RandomForestRegressor()\n",
        "parameters = [{\"n_estimators\": [100, 150, 200],\n",
        "              'max_depth': [None, 5, 10],\n",
        "              'min_samples_split': [2, 5, 10],\n",
        "              'max_features': ['auto', 'sqrt', 'log2']}]\n",
        "# code diatas adalah combinasi parameter randomforestregressor yang ingin diujikan\n",
        "grid = GridSearchCV(\n",
        "    estimator = regressor,\n",
        "    param_grid = parameters,\n",
        "    cv = 10\n",
        ")\n",
        "grid.fit(x_train, y_train)\n",
        "best_accuracy = grid.best_score_\n",
        "best_parameter = grid.best_params_"
      ],
      "metadata": {
        "id": "TeVNKuNj8QcU"
      },
      "execution_count": null,
      "outputs": []
    },
    {
      "cell_type": "code",
      "source": [
        "best_accuracy # ini adalah akurasi (R2) yang dihasilkan dari combinasi parameter terbaik"
      ],
      "metadata": {
        "colab": {
          "base_uri": "https://localhost:8080/"
        },
        "id": "R3zLbOaZD4Tg",
        "outputId": "f579249e-a2e9-4115-b7f6-115c80a70555"
      },
      "execution_count": null,
      "outputs": [
        {
          "output_type": "execute_result",
          "data": {
            "text/plain": [
              "0.9481164932754919"
            ]
          },
          "metadata": {},
          "execution_count": 64
        }
      ]
    },
    {
      "cell_type": "code",
      "source": [
        "best_parameter # ini adalah parameter yang perlu kita input pada model randomforestregressor untuk mendapatkan hasil paling optimal"
      ],
      "metadata": {
        "colab": {
          "base_uri": "https://localhost:8080/"
        },
        "id": "R66X84BeMNM6",
        "outputId": "12f090a1-2a01-4177-8134-cb0494eea16d"
      },
      "execution_count": null,
      "outputs": [
        {
          "output_type": "execute_result",
          "data": {
            "text/plain": [
              "{'max_depth': None,\n",
              " 'max_features': 'auto',\n",
              " 'min_samples_split': 2,\n",
              " 'n_estimators': 100}"
            ]
          },
          "metadata": {},
          "execution_count": 65
        }
      ]
    },
    {
      "cell_type": "code",
      "source": [],
      "metadata": {
        "id": "FSb413ZHVSz_"
      },
      "execution_count": null,
      "outputs": []
    },
    {
      "cell_type": "markdown",
      "source": [
        "## melatih model setelah dilakukan hyperparameter tunning dan diketahui kombinasi parameter terbaik"
      ],
      "metadata": {
        "id": "3uSE4LT7WK9i"
      }
    },
    {
      "cell_type": "code",
      "source": [
        "from sklearn.ensemble import RandomForestRegressor\n",
        "model = RandomForestRegressor(n_estimators = 100,max_depth = None, max_features=\"auto\", min_samples_split = 2)\n",
        "cv_scores = cross_val_score(estimator = model,\n",
        "                            X = x_train,\n",
        "                            y = y_train,\n",
        "                            cv=10,\n",
        "                            scoring='neg_mean_squared_error')"
      ],
      "metadata": {
        "colab": {
          "base_uri": "https://localhost:8080/"
        },
        "id": "UqOH2JDrWRaL",
        "outputId": "55572b8f-a3a5-4128-c47c-e805f3c9b811"
      },
      "execution_count": null,
      "outputs": [
        {
          "output_type": "stream",
          "name": "stderr",
          "text": [
            "/usr/local/lib/python3.10/dist-packages/sklearn/ensemble/_forest.py:413: FutureWarning: `max_features='auto'` has been deprecated in 1.1 and will be removed in 1.3. To keep the past behaviour, explicitly set `max_features=1.0` or remove this parameter as it is also the default value for RandomForestRegressors and ExtraTreesRegressors.\n",
            "  warn(\n",
            "/usr/local/lib/python3.10/dist-packages/sklearn/ensemble/_forest.py:413: FutureWarning: `max_features='auto'` has been deprecated in 1.1 and will be removed in 1.3. To keep the past behaviour, explicitly set `max_features=1.0` or remove this parameter as it is also the default value for RandomForestRegressors and ExtraTreesRegressors.\n",
            "  warn(\n",
            "/usr/local/lib/python3.10/dist-packages/sklearn/ensemble/_forest.py:413: FutureWarning: `max_features='auto'` has been deprecated in 1.1 and will be removed in 1.3. To keep the past behaviour, explicitly set `max_features=1.0` or remove this parameter as it is also the default value for RandomForestRegressors and ExtraTreesRegressors.\n",
            "  warn(\n",
            "/usr/local/lib/python3.10/dist-packages/sklearn/ensemble/_forest.py:413: FutureWarning: `max_features='auto'` has been deprecated in 1.1 and will be removed in 1.3. To keep the past behaviour, explicitly set `max_features=1.0` or remove this parameter as it is also the default value for RandomForestRegressors and ExtraTreesRegressors.\n",
            "  warn(\n",
            "/usr/local/lib/python3.10/dist-packages/sklearn/ensemble/_forest.py:413: FutureWarning: `max_features='auto'` has been deprecated in 1.1 and will be removed in 1.3. To keep the past behaviour, explicitly set `max_features=1.0` or remove this parameter as it is also the default value for RandomForestRegressors and ExtraTreesRegressors.\n",
            "  warn(\n",
            "/usr/local/lib/python3.10/dist-packages/sklearn/ensemble/_forest.py:413: FutureWarning: `max_features='auto'` has been deprecated in 1.1 and will be removed in 1.3. To keep the past behaviour, explicitly set `max_features=1.0` or remove this parameter as it is also the default value for RandomForestRegressors and ExtraTreesRegressors.\n",
            "  warn(\n",
            "/usr/local/lib/python3.10/dist-packages/sklearn/ensemble/_forest.py:413: FutureWarning: `max_features='auto'` has been deprecated in 1.1 and will be removed in 1.3. To keep the past behaviour, explicitly set `max_features=1.0` or remove this parameter as it is also the default value for RandomForestRegressors and ExtraTreesRegressors.\n",
            "  warn(\n",
            "/usr/local/lib/python3.10/dist-packages/sklearn/ensemble/_forest.py:413: FutureWarning: `max_features='auto'` has been deprecated in 1.1 and will be removed in 1.3. To keep the past behaviour, explicitly set `max_features=1.0` or remove this parameter as it is also the default value for RandomForestRegressors and ExtraTreesRegressors.\n",
            "  warn(\n",
            "/usr/local/lib/python3.10/dist-packages/sklearn/ensemble/_forest.py:413: FutureWarning: `max_features='auto'` has been deprecated in 1.1 and will be removed in 1.3. To keep the past behaviour, explicitly set `max_features=1.0` or remove this parameter as it is also the default value for RandomForestRegressors and ExtraTreesRegressors.\n",
            "  warn(\n",
            "/usr/local/lib/python3.10/dist-packages/sklearn/ensemble/_forest.py:413: FutureWarning: `max_features='auto'` has been deprecated in 1.1 and will be removed in 1.3. To keep the past behaviour, explicitly set `max_features=1.0` or remove this parameter as it is also the default value for RandomForestRegressors and ExtraTreesRegressors.\n",
            "  warn(\n"
          ]
        }
      ]
    },
    {
      "cell_type": "code",
      "source": [
        "mae_scores = cv_scores*-1"
      ],
      "metadata": {
        "id": "bJylDz0lWuHp"
      },
      "execution_count": null,
      "outputs": []
    },
    {
      "cell_type": "code",
      "source": [
        "print(\"Error: {:.2f} \".format(-1*mae_scores.mean()*100))"
      ],
      "metadata": {
        "colab": {
          "base_uri": "https://localhost:8080/"
        },
        "id": "7JcKHRDuW_rD",
        "outputId": "2cf74715-537d-4fc5-e0c5-e7e4b22867ad"
      },
      "execution_count": null,
      "outputs": [
        {
          "output_type": "stream",
          "name": "stdout",
          "text": [
            "Error: -7573340107.60 \n"
          ]
        }
      ]
    },
    {
      "cell_type": "code",
      "source": [
        "r_squared_scores = 1 - (mae_scores / np.var(y))"
      ],
      "metadata": {
        "id": "qqurkMJmXDf1"
      },
      "execution_count": null,
      "outputs": []
    },
    {
      "cell_type": "code",
      "source": [
        "r_squared_scores"
      ],
      "metadata": {
        "colab": {
          "base_uri": "https://localhost:8080/"
        },
        "id": "U_k55N87YHMS",
        "outputId": "b83cdf2e-55c2-4d62-b68c-e210e65314f6"
      },
      "execution_count": null,
      "outputs": [
        {
          "output_type": "execute_result",
          "data": {
            "text/plain": [
              "array([0.93610469, 0.9549956 , 0.94299988, 0.98161098, 0.94923151,\n",
              "       0.94838377, 0.94792956, 0.9265674 , 0.96702191, 0.96027522])"
            ]
          },
          "metadata": {},
          "execution_count": 71
        }
      ]
    },
    {
      "cell_type": "code",
      "source": [
        "mean_r_squared = np.mean(r_squared_scores)\n",
        "print(mean_r_squared) #  hasilnya bagus, namun ada indikasi bahwa modelnya mengalami overfitting"
      ],
      "metadata": {
        "colab": {
          "base_uri": "https://localhost:8080/"
        },
        "id": "5G4BNB1vYIT5",
        "outputId": "5fe5d1c9-4c77-46b8-f2ea-53fc5cd56686"
      },
      "execution_count": null,
      "outputs": [
        {
          "output_type": "stream",
          "name": "stdout",
          "text": [
            "0.9515120518173255\n"
          ]
        }
      ]
    },
    {
      "cell_type": "code",
      "source": [
        "from sklearn.metrics import mean_squared_error\n",
        "from sklearn.metrics import r2_score\n",
        "model.fit(x_train, y_train)\n",
        "pred = model.predict(x_test)\n",
        "print(\"MSE : \", mean_squared_error(y_test, pred))\n",
        "print(\"R2 : \", r2_score(y_test, pred))\n",
        "\n",
        "# memprediksi data baru (x_test, y_test) yang sudah dipisahkan dari data latih\n",
        "# dan hasilnya sudah baik"
      ],
      "metadata": {
        "colab": {
          "base_uri": "https://localhost:8080/"
        },
        "id": "fF_yWnmpoJKb",
        "outputId": "7a061292-a980-4bf3-f403-5caaef5ddd3f"
      },
      "execution_count": null,
      "outputs": [
        {
          "output_type": "stream",
          "name": "stderr",
          "text": [
            "/usr/local/lib/python3.10/dist-packages/sklearn/ensemble/_forest.py:413: FutureWarning: `max_features='auto'` has been deprecated in 1.1 and will be removed in 1.3. To keep the past behaviour, explicitly set `max_features=1.0` or remove this parameter as it is also the default value for RandomForestRegressors and ExtraTreesRegressors.\n",
            "  warn(\n"
          ]
        },
        {
          "output_type": "stream",
          "name": "stdout",
          "text": [
            "MSE :  74997746.40298025\n",
            "R2 :  0.9552420018274768\n"
          ]
        }
      ]
    },
    {
      "cell_type": "code",
      "source": [],
      "metadata": {
        "id": "zjd-7ho1YPLP"
      },
      "execution_count": null,
      "outputs": []
    },
    {
      "cell_type": "code",
      "source": [
        "print(\"RMSE : \", round(calculate_rmse(mean_squared_error(y_test, pred)), 2))"
      ],
      "metadata": {
        "colab": {
          "base_uri": "https://localhost:8080/"
        },
        "id": "oxPjCRlcYv3r",
        "outputId": "79c9daa9-1ac5-4b00-9259-111fc534f673"
      },
      "execution_count": null,
      "outputs": [
        {
          "output_type": "stream",
          "name": "stdout",
          "text": [
            "RMSE :  8660.12\n"
          ]
        }
      ]
    },
    {
      "cell_type": "code",
      "source": [],
      "metadata": {
        "id": "VpT3cwklZAS-"
      },
      "execution_count": null,
      "outputs": []
    }
  ]
}